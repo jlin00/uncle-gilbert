{
 "cells": [
  {
   "cell_type": "code",
   "execution_count": 60,
   "metadata": {},
   "outputs": [],
   "source": [
    "import os\n",
    "import random\n",
    "\n",
    "import pandas as pd\n",
    "import numpy as np \n",
    "import matplotlib.pyplot as plt\n",
    "import seaborn as sns \n",
    "\n",
    "pd.set_option(\"display.max_colwidth\", None)\n",
    "random.seed(6806)\n",
    "random_state = 6806"
   ]
  },
  {
   "cell_type": "code",
   "execution_count": 22,
   "metadata": {},
   "outputs": [],
   "source": [
    "csv_files = [f\"./data/{file}\" for file in os.listdir(\"./data\") if file.endswith(\".csv\")]"
   ]
  },
  {
   "cell_type": "code",
   "execution_count": 24,
   "metadata": {},
   "outputs": [
    {
     "data": {
      "text/plain": [
       "['./data/luxury_beauty.csv',\n",
       " './data/software.csv',\n",
       " './data/arts_crafts_and_sewing.csv',\n",
       " './data/prime_pantry.csv',\n",
       " './data/industrial_and_scientific.csv',\n",
       " './data/gift_cards.csv',\n",
       " './data/all_beauty.csv',\n",
       " './data/magazine_subscriptions.csv',\n",
       " './data/digital_music.csv',\n",
       " './data/appliances.csv',\n",
       " './data/musical_instruments.csv',\n",
       " './data/amazon_fashion.csv']"
      ]
     },
     "execution_count": 24,
     "metadata": {},
     "output_type": "execute_result"
    }
   ],
   "source": [
    "csv_files"
   ]
  },
  {
   "cell_type": "code",
   "execution_count": 72,
   "metadata": {},
   "outputs": [],
   "source": [
    "dfs = [] \n",
    "\n",
    "for path in csv_files:\n",
    "    df = pd.read_csv(path, index_col=[0])\n",
    "    category = path.split(\"/\")[-1][:-4]\n",
    "    df[\"category\"] = category\n",
    "    dfs.append(df)\n",
    "\n",
    "df = pd.concat(dfs, axis=0)"
   ]
  },
  {
   "cell_type": "code",
   "execution_count": 73,
   "metadata": {},
   "outputs": [],
   "source": [
    "# Preprocessing\n",
    "df = df[df[\"overall\"] != 3] # Drop neutral/indeterminate reviews\n",
    "df[\"is_positive\"] = df[\"overall\"] > 3"
   ]
  },
  {
   "cell_type": "code",
   "execution_count": 74,
   "metadata": {},
   "outputs": [
    {
     "data": {
      "text/html": [
       "<div>\n",
       "<style scoped>\n",
       "    .dataframe tbody tr th:only-of-type {\n",
       "        vertical-align: middle;\n",
       "    }\n",
       "\n",
       "    .dataframe tbody tr th {\n",
       "        vertical-align: top;\n",
       "    }\n",
       "\n",
       "    .dataframe thead th {\n",
       "        text-align: right;\n",
       "    }\n",
       "</style>\n",
       "<table border=\"1\" class=\"dataframe\">\n",
       "  <thead>\n",
       "    <tr style=\"text-align: right;\">\n",
       "      <th></th>\n",
       "      <th>reviewText</th>\n",
       "      <th>overall</th>\n",
       "      <th>category</th>\n",
       "      <th>is_positive</th>\n",
       "    </tr>\n",
       "  </thead>\n",
       "  <tbody>\n",
       "    <tr>\n",
       "      <th>0</th>\n",
       "      <td>This handcream has a beautiful fragrance. It doesnt stay on or protect your hands through washing.  This size is quite small.</td>\n",
       "      <td>5.0</td>\n",
       "      <td>luxury_beauty</td>\n",
       "      <td>True</td>\n",
       "    </tr>\n",
       "    <tr>\n",
       "      <th>1</th>\n",
       "      <td>wonderful hand lotion, for seriously dry skin, stays on a long time, a little goes a long long way.. go easy.. wonderful scent.. maybe a bit strong at first, but dissipates after a while.</td>\n",
       "      <td>5.0</td>\n",
       "      <td>luxury_beauty</td>\n",
       "      <td>True</td>\n",
       "    </tr>\n",
       "    <tr>\n",
       "      <th>2</th>\n",
       "      <td>Best hand cream around.  Silky, thick, soaks in all the way leaving hands super soft.</td>\n",
       "      <td>5.0</td>\n",
       "      <td>luxury_beauty</td>\n",
       "      <td>True</td>\n",
       "    </tr>\n",
       "    <tr>\n",
       "      <th>3</th>\n",
       "      <td>Thanks!!</td>\n",
       "      <td>5.0</td>\n",
       "      <td>luxury_beauty</td>\n",
       "      <td>True</td>\n",
       "    </tr>\n",
       "    <tr>\n",
       "      <th>4</th>\n",
       "      <td>Great hand lotion.  Soaks right in and leaves skin super soft.  No greasy residue, great scent!</td>\n",
       "      <td>5.0</td>\n",
       "      <td>luxury_beauty</td>\n",
       "      <td>True</td>\n",
       "    </tr>\n",
       "    <tr>\n",
       "      <th>...</th>\n",
       "      <td>...</td>\n",
       "      <td>...</td>\n",
       "      <td>...</td>\n",
       "      <td>...</td>\n",
       "    </tr>\n",
       "    <tr>\n",
       "      <th>3171</th>\n",
       "      <td>Perfect fit!</td>\n",
       "      <td>5.0</td>\n",
       "      <td>amazon_fashion</td>\n",
       "      <td>True</td>\n",
       "    </tr>\n",
       "    <tr>\n",
       "      <th>3172</th>\n",
       "      <td>My favorite cross trainers!</td>\n",
       "      <td>5.0</td>\n",
       "      <td>amazon_fashion</td>\n",
       "      <td>True</td>\n",
       "    </tr>\n",
       "    <tr>\n",
       "      <th>3173</th>\n",
       "      <td>Love them fit perfect</td>\n",
       "      <td>5.0</td>\n",
       "      <td>amazon_fashion</td>\n",
       "      <td>True</td>\n",
       "    </tr>\n",
       "    <tr>\n",
       "      <th>3174</th>\n",
       "      <td>Favorite Nike shoe ever! The flex sole is excellent for someone like me who loves the free feeling of sandals or being barefoot. These move effortlessly with the bend of my foot. I've worn these for multiple activities and I've had no foot or ankle pain. The white/green/dark grey color goes with so many outfits and the mesh breathes perfectly on hot summer days. Highly recommend!</td>\n",
       "      <td>5.0</td>\n",
       "      <td>amazon_fashion</td>\n",
       "      <td>True</td>\n",
       "    </tr>\n",
       "    <tr>\n",
       "      <th>3175</th>\n",
       "      <td>I wear these everyday to work, the gym, etc.</td>\n",
       "      <td>5.0</td>\n",
       "      <td>amazon_fashion</td>\n",
       "      <td>True</td>\n",
       "    </tr>\n",
       "  </tbody>\n",
       "</table>\n",
       "<p>1102047 rows × 4 columns</p>\n",
       "</div>"
      ],
      "text/plain": [
       "                                                                                                                                                                                                                                                                                                                                                                                          reviewText  \\\n",
       "0                                                                                                                                                                                                                                                                      This handcream has a beautiful fragrance. It doesnt stay on or protect your hands through washing.  This size is quite small.   \n",
       "1                                                                                                                                                                                                        wonderful hand lotion, for seriously dry skin, stays on a long time, a little goes a long long way.. go easy.. wonderful scent.. maybe a bit strong at first, but dissipates after a while.   \n",
       "2                                                                                                                                                                                                                                                                                                              Best hand cream around.  Silky, thick, soaks in all the way leaving hands super soft.   \n",
       "3                                                                                                                                                                                                                                                                                                                                                                                           Thanks!!   \n",
       "4                                                                                                                                                                                                                                                                                                    Great hand lotion.  Soaks right in and leaves skin super soft.  No greasy residue, great scent!   \n",
       "...                                                                                                                                                                                                                                                                                                                                                                                              ...   \n",
       "3171                                                                                                                                                                                                                                                                                                                                                                                    Perfect fit!   \n",
       "3172                                                                                                                                                                                                                                                                                                                                                                     My favorite cross trainers!   \n",
       "3173                                                                                                                                                                                                                                                                                                                                                                           Love them fit perfect   \n",
       "3174  Favorite Nike shoe ever! The flex sole is excellent for someone like me who loves the free feeling of sandals or being barefoot. These move effortlessly with the bend of my foot. I've worn these for multiple activities and I've had no foot or ankle pain. The white/green/dark grey color goes with so many outfits and the mesh breathes perfectly on hot summer days. Highly recommend!   \n",
       "3175                                                                                                                                                                                                                                                                                                                                                    I wear these everyday to work, the gym, etc.   \n",
       "\n",
       "      overall        category  is_positive  \n",
       "0         5.0   luxury_beauty         True  \n",
       "1         5.0   luxury_beauty         True  \n",
       "2         5.0   luxury_beauty         True  \n",
       "3         5.0   luxury_beauty         True  \n",
       "4         5.0   luxury_beauty         True  \n",
       "...       ...             ...          ...  \n",
       "3171      5.0  amazon_fashion         True  \n",
       "3172      5.0  amazon_fashion         True  \n",
       "3173      5.0  amazon_fashion         True  \n",
       "3174      5.0  amazon_fashion         True  \n",
       "3175      5.0  amazon_fashion         True  \n",
       "\n",
       "[1102047 rows x 4 columns]"
      ]
     },
     "execution_count": 74,
     "metadata": {},
     "output_type": "execute_result"
    }
   ],
   "source": [
    "df"
   ]
  },
  {
   "cell_type": "code",
   "execution_count": 75,
   "metadata": {},
   "outputs": [
    {
     "data": {
      "text/html": [
       "<div>\n",
       "<style scoped>\n",
       "    .dataframe tbody tr th:only-of-type {\n",
       "        vertical-align: middle;\n",
       "    }\n",
       "\n",
       "    .dataframe tbody tr th {\n",
       "        vertical-align: top;\n",
       "    }\n",
       "\n",
       "    .dataframe thead th {\n",
       "        text-align: right;\n",
       "    }\n",
       "</style>\n",
       "<table border=\"1\" class=\"dataframe\">\n",
       "  <thead>\n",
       "    <tr style=\"text-align: right;\">\n",
       "      <th></th>\n",
       "      <th>reviewText</th>\n",
       "      <th>overall</th>\n",
       "      <th>category</th>\n",
       "      <th>is_positive</th>\n",
       "    </tr>\n",
       "  </thead>\n",
       "  <tbody>\n",
       "    <tr>\n",
       "      <th>79567</th>\n",
       "      <td>This collection of songs does not disappoint! Imagine Dragons are a very talented group. I Love Amazon's MP3 music downloads!</td>\n",
       "      <td>5.0</td>\n",
       "      <td>digital_music</td>\n",
       "      <td>True</td>\n",
       "    </tr>\n",
       "    <tr>\n",
       "      <th>25097</th>\n",
       "      <td>I am a bit of a connoisseur for these types of items and this impressed me. I found this palette to be convenient and have unique packaging and to be a well put together kit with all the 'must haves' in one package. I also didn't find the product to be small like some, I found it to be a decent size and the quality of the make-up to be above average. Jouer has all the basics wrapped into one here, each with their neat little compartments and mirrors included. You get a palette for eyes, face, lip gloss and a tint and highlighter. Only thing they didn't have was a small applicator or brush with it. This they could've added for conveniency as i've seen in other palette's such as this but still it impressed me. I also think the colors included are very neutral/wearable and blend well or would look good on most people. Product comes in a nice sheer translucent bag. Would make a nice gift for yourself or someone else, if you're willing to spend a bit extra for what I'd call quality.</td>\n",
       "      <td>5.0</td>\n",
       "      <td>luxury_beauty</td>\n",
       "      <td>True</td>\n",
       "    </tr>\n",
       "    <tr>\n",
       "      <th>7967</th>\n",
       "      <td>I had a very cheap version of this tool (not of this brand) many, many years ago and it was totally worthless, fit only for the garbage can. So when I ordered this step drill in an attempt to cut a 1 1/8\" hole in mild steel, my expectations were not high.  But I was absolutely wrong.  This little beauty drilled four holes through 3/16\" thick steel and looks as if it was still brand new and untouched!!  I'm very impressed and would recommend it, especially for use in a drill press.</td>\n",
       "      <td>5.0</td>\n",
       "      <td>industrial_and_scientific</td>\n",
       "      <td>True</td>\n",
       "    </tr>\n",
       "    <tr>\n",
       "      <th>119987</th>\n",
       "      <td>I like that there are several different sizes. they only thing that i don't like is that the smaller hearts don't fit perfectly in center of the one bigger. So are they truely \"nesting\"? (you can tell in the pic)</td>\n",
       "      <td>4.0</td>\n",
       "      <td>arts_crafts_and_sewing</td>\n",
       "      <td>True</td>\n",
       "    </tr>\n",
       "    <tr>\n",
       "      <th>33972</th>\n",
       "      <td>The best always</td>\n",
       "      <td>5.0</td>\n",
       "      <td>prime_pantry</td>\n",
       "      <td>True</td>\n",
       "    </tr>\n",
       "  </tbody>\n",
       "</table>\n",
       "</div>"
      ],
      "text/plain": [
       "                                                                                                                                                                                                                                                                                                                                                                                                                                                                                                                                                                                                                                                                                                                                                                                                                                                                                                                                                                                                                              reviewText  \\\n",
       "79567                                                                                                                                                                                                                                                                                                                                                                                                                                                                                                                                                                                                                                                                                                                                                                                                                                                                                                      This collection of songs does not disappoint! Imagine Dragons are a very talented group. I Love Amazon's MP3 music downloads!   \n",
       "25097   I am a bit of a connoisseur for these types of items and this impressed me. I found this palette to be convenient and have unique packaging and to be a well put together kit with all the 'must haves' in one package. I also didn't find the product to be small like some, I found it to be a decent size and the quality of the make-up to be above average. Jouer has all the basics wrapped into one here, each with their neat little compartments and mirrors included. You get a palette for eyes, face, lip gloss and a tint and highlighter. Only thing they didn't have was a small applicator or brush with it. This they could've added for conveniency as i've seen in other palette's such as this but still it impressed me. I also think the colors included are very neutral/wearable and blend well or would look good on most people. Product comes in a nice sheer translucent bag. Would make a nice gift for yourself or someone else, if you're willing to spend a bit extra for what I'd call quality.   \n",
       "7967                                                                                                                                                                                                                                                                                                                                                                                                                                                                                                                               I had a very cheap version of this tool (not of this brand) many, many years ago and it was totally worthless, fit only for the garbage can. So when I ordered this step drill in an attempt to cut a 1 1/8\" hole in mild steel, my expectations were not high.  But I was absolutely wrong.  This little beauty drilled four holes through 3/16\" thick steel and looks as if it was still brand new and untouched!!  I'm very impressed and would recommend it, especially for use in a drill press.   \n",
       "119987                                                                                                                                                                                                                                                                                                                                                                                                                                                                                                                                                                                                                                                                                                                                                                                                              I like that there are several different sizes. they only thing that i don't like is that the smaller hearts don't fit perfectly in center of the one bigger. So are they truely \"nesting\"? (you can tell in the pic)   \n",
       "33972                                                                                                                                                                                                                                                                                                                                                                                                                                                                                                                                                                                                                                                                                                                                                                                                                                                                                                                                                                                                                    The best always   \n",
       "\n",
       "        overall                   category  is_positive  \n",
       "79567       5.0              digital_music         True  \n",
       "25097       5.0              luxury_beauty         True  \n",
       "7967        5.0  industrial_and_scientific         True  \n",
       "119987      4.0     arts_crafts_and_sewing         True  \n",
       "33972       5.0               prime_pantry         True  "
      ]
     },
     "execution_count": 75,
     "metadata": {},
     "output_type": "execute_result"
    }
   ],
   "source": [
    "df.sample(5, random_state=random_state)"
   ]
  },
  {
   "cell_type": "code",
   "execution_count": 80,
   "metadata": {},
   "outputs": [
    {
     "data": {
      "text/plain": [
       "count    1.101300e+06\n",
       "mean     2.076870e+02\n",
       "std      4.488919e+02\n",
       "min      1.000000e+00\n",
       "25%      2.700000e+01\n",
       "50%      8.800000e+01\n",
       "75%      2.050000e+02\n",
       "max      3.218400e+04\n",
       "Name: reviewText, dtype: float64"
      ]
     },
     "execution_count": 80,
     "metadata": {},
     "output_type": "execute_result"
    }
   ],
   "source": [
    "df[\"reviewText\"].str.len().describe()"
   ]
  },
  {
   "cell_type": "markdown",
   "metadata": {},
   "source": [
    "Some of the reviews are really long in length. We may have to filter these reviews out before passing them into DistilBert. "
   ]
  },
  {
   "cell_type": "code",
   "execution_count": 76,
   "metadata": {},
   "outputs": [
    {
     "data": {
      "text/plain": [
       "overall\n",
       "5.0    871509\n",
       "4.0    167843\n",
       "1.0     32711\n",
       "2.0     29984\n",
       "Name: count, dtype: int64"
      ]
     },
     "execution_count": 76,
     "metadata": {},
     "output_type": "execute_result"
    }
   ],
   "source": [
    "df[\"overall\"].value_counts()"
   ]
  },
  {
   "cell_type": "code",
   "execution_count": 77,
   "metadata": {},
   "outputs": [
    {
     "data": {
      "text/plain": [
       "count    1.102047e+06\n",
       "mean     4.647348e+00\n",
       "std      8.647075e-01\n",
       "min      1.000000e+00\n",
       "25%      5.000000e+00\n",
       "50%      5.000000e+00\n",
       "75%      5.000000e+00\n",
       "max      5.000000e+00\n",
       "Name: overall, dtype: float64"
      ]
     },
     "execution_count": 77,
     "metadata": {},
     "output_type": "execute_result"
    }
   ],
   "source": [
    "df[\"overall\"].describe()"
   ]
  },
  {
   "cell_type": "code",
   "execution_count": 51,
   "metadata": {},
   "outputs": [
    {
     "data": {
      "text/plain": [
       "is_positive\n",
       "True     1110974\n",
       "False      62695\n",
       "Name: count, dtype: int64"
      ]
     },
     "execution_count": 51,
     "metadata": {},
     "output_type": "execute_result"
    }
   ],
   "source": [
    "df[\"is_positive\"].value_counts()"
   ]
  },
  {
   "cell_type": "code",
   "execution_count": 52,
   "metadata": {},
   "outputs": [
    {
     "data": {
      "text/plain": [
       "count     1173669\n",
       "unique          2\n",
       "top          True\n",
       "freq      1110974\n",
       "Name: is_positive, dtype: object"
      ]
     },
     "execution_count": 52,
     "metadata": {},
     "output_type": "execute_result"
    }
   ],
   "source": [
    "df[\"is_positive\"].describe()"
   ]
  },
  {
   "cell_type": "markdown",
   "metadata": {},
   "source": [
    "It looks like most of the reviews are positive in sentiment! We may want to consider, as a hyperparameter, upsampling negative reviews by via data augmentation.\n",
    "\n",
    "Note: we did not standardize the reviews to account for different interpretations of the ratings scale by each user. "
   ]
  },
  {
   "cell_type": "code",
   "execution_count": 63,
   "metadata": {},
   "outputs": [
    {
     "data": {
      "text/plain": [
       "category\n",
       "arts_crafts_and_sewing       494485\n",
       "musical_instruments          231392\n",
       "digital_music                169781\n",
       "prime_pantry                 137788\n",
       "industrial_and_scientific     77071\n",
       "luxury_beauty                 34278\n",
       "software                      12805\n",
       "all_beauty                     5269\n",
       "amazon_fashion                 3176\n",
       "gift_cards                     2972\n",
       "magazine_subscriptions         2375\n",
       "appliances                     2277\n",
       "Name: count, dtype: int64"
      ]
     },
     "execution_count": 63,
     "metadata": {},
     "output_type": "execute_result"
    }
   ],
   "source": [
    "df[\"category\"].value_counts()"
   ]
  },
  {
   "cell_type": "markdown",
   "metadata": {},
   "source": [
    "We will take the three domains with the most reviews to be our source domains, and leave everything else as a target domain. In particular, we will start our experiments with one source domain, and then add the other two later on. This is both for speed of development and also to observe what happens as the size/breadth of the source domain increases. We may later choose to include reviews from completely different domains as well, such as movie reviews and restaurant reviews."
   ]
  },
  {
   "cell_type": "code",
   "execution_count": 68,
   "metadata": {},
   "outputs": [],
   "source": [
    "source_domains = [\"arts_crafts_and_sewing\", \"musical_instruments\", \"digital_music\"]"
   ]
  },
  {
   "cell_type": "code",
   "execution_count": 69,
   "metadata": {},
   "outputs": [
    {
     "data": {
      "text/plain": [
       "0.7631265714609485"
      ]
     },
     "execution_count": 69,
     "metadata": {},
     "output_type": "execute_result"
    }
   ],
   "source": [
    "len(df[df[\"category\"].isin(source_domains)]) / len(df)"
   ]
  }
 ],
 "metadata": {
  "kernelspec": {
   "display_name": "6806",
   "language": "python",
   "name": "python3"
  },
  "language_info": {
   "codemirror_mode": {
    "name": "ipython",
    "version": 3
   },
   "file_extension": ".py",
   "mimetype": "text/x-python",
   "name": "python",
   "nbconvert_exporter": "python",
   "pygments_lexer": "ipython3",
   "version": "3.9.5"
  }
 },
 "nbformat": 4,
 "nbformat_minor": 2
}
