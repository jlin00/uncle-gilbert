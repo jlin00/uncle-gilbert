{
 "cells": [
  {
   "cell_type": "code",
   "execution_count": 1,
   "metadata": {},
   "outputs": [
    {
     "name": "stderr",
     "output_type": "stream",
     "text": [
      "/Users/jackielin/venvs/6806/lib/python3.9/site-packages/tqdm/auto.py:21: TqdmWarning: IProgress not found. Please update jupyter and ipywidgets. See https://ipywidgets.readthedocs.io/en/stable/user_install.html\n",
      "  from .autonotebook import tqdm as notebook_tqdm\n"
     ]
    }
   ],
   "source": [
    "import os \n",
    "import random \n",
    "random.seed(6806) \n",
    "random_state = 6806\n",
    "\n",
    "import pandas as pd\n",
    "pd.set_option(\"display.max_colwidth\", None)\n",
    "\n",
    "from utils import *"
   ]
  },
  {
   "cell_type": "code",
   "execution_count": 2,
   "metadata": {},
   "outputs": [],
   "source": [
    "csv_files = [f\"data/{file}\" for file in os.listdir(\"data\") if file.endswith(\".csv\")]"
   ]
  },
  {
   "cell_type": "code",
   "execution_count": 3,
   "metadata": {},
   "outputs": [
    {
     "data": {
      "text/plain": [
       "['data/luxury_beauty.csv',\n",
       " 'data/software.csv',\n",
       " 'data/arts_crafts_and_sewing.csv',\n",
       " 'data/prime_pantry.csv',\n",
       " 'data/industrial_and_scientific.csv',\n",
       " 'data/gift_cards.csv',\n",
       " 'data/all_beauty.csv',\n",
       " 'data/magazine_subscriptions.csv',\n",
       " 'data/digital_music.csv',\n",
       " 'data/appliances.csv',\n",
       " 'data/musical_instruments.csv',\n",
       " 'data/amazon_fashion.csv']"
      ]
     },
     "execution_count": 3,
     "metadata": {},
     "output_type": "execute_result"
    }
   ],
   "source": [
    "csv_files"
   ]
  },
  {
   "cell_type": "code",
   "execution_count": 4,
   "metadata": {},
   "outputs": [
    {
     "name": "stdout",
     "output_type": "stream",
     "text": [
      "luxury_beauty 34278 13303\n",
      "software 12805 4515\n",
      "arts_crafts_and_sewing 494485 309209\n",
      "prime_pantry 137788 88505\n",
      "industrial_and_scientific 77071 48230\n",
      "gift_cards 2972 1891\n",
      "all_beauty 5269 1097\n",
      "magazine_subscriptions 2375 1399\n",
      "digital_music 169781 82875\n",
      "appliances 2277 123\n",
      "musical_instruments 231392 146607\n",
      "amazon_fashion 3176 380\n"
     ]
    }
   ],
   "source": [
    "category_to_df = {} \n",
    "\n",
    "for path in csv_files:\n",
    "    df = pd.read_csv(path, index_col=[0])\n",
    "    original_length = len(df)\n",
    "\n",
    "    df = df.drop_duplicates()\n",
    "    df = df[df[\"overall\"] != 3] # Exclude neutral/undetermined reviews\n",
    "    df = df[(df[\"reviewText\"].str.split().str.len() > 0) & (df[\"reviewText\"].str.split().str.len() <= 100)] # Exclude reviews that are too long\n",
    "\n",
    "    category = path.split(\"/\")[-1][:-4]\n",
    "    category_to_df[category] = df \n",
    "    \n",
    "    print(category, original_length, len(df))"
   ]
  },
  {
   "cell_type": "code",
   "execution_count": 6,
   "metadata": {},
   "outputs": [
    {
     "data": {
      "text/plain": [
       "698134"
      ]
     },
     "execution_count": 6,
     "metadata": {},
     "output_type": "execute_result"
    }
   ],
   "source": [
    "sum([len(df) for df in category_to_df.values()])"
   ]
  },
  {
   "cell_type": "code",
   "execution_count": 8,
   "metadata": {},
   "outputs": [
    {
     "name": "stdout",
     "output_type": "stream",
     "text": [
      "\u001b[1mluxury_beauty\u001b[0m, length=10000\n"
     ]
    },
    {
     "data": {
      "text/html": [
       "<div>\n",
       "<style scoped>\n",
       "    .dataframe tbody tr th:only-of-type {\n",
       "        vertical-align: middle;\n",
       "    }\n",
       "\n",
       "    .dataframe tbody tr th {\n",
       "        vertical-align: top;\n",
       "    }\n",
       "\n",
       "    .dataframe thead th {\n",
       "        text-align: right;\n",
       "    }\n",
       "</style>\n",
       "<table border=\"1\" class=\"dataframe\">\n",
       "  <thead>\n",
       "    <tr style=\"text-align: right;\">\n",
       "      <th></th>\n",
       "      <th>reviewText</th>\n",
       "      <th>overall</th>\n",
       "    </tr>\n",
       "  </thead>\n",
       "  <tbody>\n",
       "    <tr>\n",
       "      <th>21503</th>\n",
       "      <td>Great hair serum! Makes my hair healthy and shiny! Smells great too! This is the new Loma Pearatin so its now called Loma Organics and they changed their packaging to green bottles.</td>\n",
       "      <td>5.0</td>\n",
       "    </tr>\n",
       "    <tr>\n",
       "      <th>24250</th>\n",
       "      <td>The usual high standards of Crabtree and Evelyn show in the Lily of the Valley scented hand cream. The Shea and Macadamia nut butters make my hands feel and look soft. The lovely Lily of the Valley scent is subtle but a hint lingers for several hours. This size tube is perfect for a purse,  tote bag, or backpack. I have purchased Crabtree and Evelyn body lotion from the company web site for years, and now it is available at Amazon.</td>\n",
       "      <td>5.0</td>\n",
       "    </tr>\n",
       "    <tr>\n",
       "      <th>15553</th>\n",
       "      <td>It's like a medium brown. Coffee with a little cream. I believe it would look great on any skin tone. It's a good color for thin application, no streaking. I love CND!!</td>\n",
       "      <td>5.0</td>\n",
       "    </tr>\n",
       "    <tr>\n",
       "      <th>26777</th>\n",
       "      <td>This is an excellent foundation, and I love how it includes a strong SPF for summer use. It lasts all day and provides complete coverage and a beautiful canvas on which to apply other makeup.  It blends very well, and I think it is the perfect texture. It does not smell like sunscreen (or really anything else, either).  The tube is smaller than I was expecting (although I received a full-size product), so it's expensive. Great product, though.</td>\n",
       "      <td>5.0</td>\n",
       "    </tr>\n",
       "    <tr>\n",
       "      <th>5558</th>\n",
       "      <td>I like the precision of this pencil. It actually allows you to make little hair lines that fill in the brow, rather than just a generic color-in effect. The color is perfect. I still prefer Anastasia's, but this is a better price.</td>\n",
       "      <td>4.0</td>\n",
       "    </tr>\n",
       "  </tbody>\n",
       "</table>\n",
       "</div>"
      ],
      "text/plain": [
       "                                                                                                                                                                                                                                                                                                                                                                                                                                                            reviewText  \\\n",
       "21503                                                                                                                                                                                                                                                                            Great hair serum! Makes my hair healthy and shiny! Smells great too! This is the new Loma Pearatin so its now called Loma Organics and they changed their packaging to green bottles.   \n",
       "24250              The usual high standards of Crabtree and Evelyn show in the Lily of the Valley scented hand cream. The Shea and Macadamia nut butters make my hands feel and look soft. The lovely Lily of the Valley scent is subtle but a hint lingers for several hours. This size tube is perfect for a purse,  tote bag, or backpack. I have purchased Crabtree and Evelyn body lotion from the company web site for years, and now it is available at Amazon.   \n",
       "15553                                                                                                                                                                                                                                                                                         It's like a medium brown. Coffee with a little cream. I believe it would look great on any skin tone. It's a good color for thin application, no streaking. I love CND!!   \n",
       "26777  This is an excellent foundation, and I love how it includes a strong SPF for summer use. It lasts all day and provides complete coverage and a beautiful canvas on which to apply other makeup.  It blends very well, and I think it is the perfect texture. It does not smell like sunscreen (or really anything else, either).  The tube is smaller than I was expecting (although I received a full-size product), so it's expensive. Great product, though.   \n",
       "5558                                                                                                                                                                                                                            I like the precision of this pencil. It actually allows you to make little hair lines that fill in the brow, rather than just a generic color-in effect. The color is perfect. I still prefer Anastasia's, but this is a better price.   \n",
       "\n",
       "       overall  \n",
       "21503      5.0  \n",
       "24250      5.0  \n",
       "15553      5.0  \n",
       "26777      5.0  \n",
       "5558       4.0  "
      ]
     },
     "metadata": {},
     "output_type": "display_data"
    },
    {
     "name": "stdout",
     "output_type": "stream",
     "text": [
      "\n",
      "\u001b[1msoftware\u001b[0m, length=4515\n"
     ]
    },
    {
     "data": {
      "text/html": [
       "<div>\n",
       "<style scoped>\n",
       "    .dataframe tbody tr th:only-of-type {\n",
       "        vertical-align: middle;\n",
       "    }\n",
       "\n",
       "    .dataframe tbody tr th {\n",
       "        vertical-align: top;\n",
       "    }\n",
       "\n",
       "    .dataframe thead th {\n",
       "        text-align: right;\n",
       "    }\n",
       "</style>\n",
       "<table border=\"1\" class=\"dataframe\">\n",
       "  <thead>\n",
       "    <tr style=\"text-align: right;\">\n",
       "      <th></th>\n",
       "      <th>reviewText</th>\n",
       "      <th>overall</th>\n",
       "    </tr>\n",
       "  </thead>\n",
       "  <tbody>\n",
       "    <tr>\n",
       "      <th>8157</th>\n",
       "      <td>The price of the product was nearly trippled since I bought Norton last time. Since 2015 all antivirus prices got increased except cheap McAfee.</td>\n",
       "      <td>5.0</td>\n",
       "    </tr>\n",
       "    <tr>\n",
       "      <th>1742</th>\n",
       "      <td>BLESS Acronis!!!!!!!!!!!!!!!!!  Clone software that works and without giving you\\na frustration fueled foul mouth. The software saved my hide twice so far by allowing me to clone entire hard drives, OS included. Which allowed me to switch hard drives and continue work on my laptop when an older hard drive decided to quit as I knew it would sooner or later. Then there was the disk with all those video files I use repeatedly. Only days after cloning that disk, the original died.\\n\\nIf you value your data, get Acronis.</td>\n",
       "      <td>5.0</td>\n",
       "    </tr>\n",
       "    <tr>\n",
       "      <th>7159</th>\n",
       "      <td>WinZip does what it's supposed to, is easy to use, and reasonably priced. It compares well in features and function to StuffIt- These days I use them pretty much interchangeably. StuffIt has a prettier interface though...</td>\n",
       "      <td>5.0</td>\n",
       "    </tr>\n",
       "    <tr>\n",
       "      <th>10382</th>\n",
       "      <td>Not bad but not much better</td>\n",
       "      <td>2.0</td>\n",
       "    </tr>\n",
       "    <tr>\n",
       "      <th>9107</th>\n",
       "      <td>Good</td>\n",
       "      <td>2.0</td>\n",
       "    </tr>\n",
       "  </tbody>\n",
       "</table>\n",
       "</div>"
      ],
      "text/plain": [
       "                                                                                                                                                                                                                                                                                                                                                                                                                                                                                                                                      reviewText  \\\n",
       "8157                                                                                                                                                                                                                                                                                                                                                                                            The price of the product was nearly trippled since I bought Norton last time. Since 2015 all antivirus prices got increased except cheap McAfee.   \n",
       "1742   BLESS Acronis!!!!!!!!!!!!!!!!!  Clone software that works and without giving you\\na frustration fueled foul mouth. The software saved my hide twice so far by allowing me to clone entire hard drives, OS included. Which allowed me to switch hard drives and continue work on my laptop when an older hard drive decided to quit as I knew it would sooner or later. Then there was the disk with all those video files I use repeatedly. Only days after cloning that disk, the original died.\\n\\nIf you value your data, get Acronis.   \n",
       "7159                                                                                                                                                                                                                                                                                                               WinZip does what it's supposed to, is easy to use, and reasonably priced. It compares well in features and function to StuffIt- These days I use them pretty much interchangeably. StuffIt has a prettier interface though...   \n",
       "10382                                                                                                                                                                                                                                                                                                                                                                                                                                                                                                                Not bad but not much better   \n",
       "9107                                                                                                                                                                                                                                                                                                                                                                                                                                                                                                                                        Good   \n",
       "\n",
       "       overall  \n",
       "8157       5.0  \n",
       "1742       5.0  \n",
       "7159       5.0  \n",
       "10382      2.0  \n",
       "9107       2.0  "
      ]
     },
     "metadata": {},
     "output_type": "display_data"
    },
    {
     "name": "stdout",
     "output_type": "stream",
     "text": [
      "\n",
      "\u001b[1marts_crafts_and_sewing\u001b[0m, length=10000\n"
     ]
    },
    {
     "data": {
      "text/html": [
       "<div>\n",
       "<style scoped>\n",
       "    .dataframe tbody tr th:only-of-type {\n",
       "        vertical-align: middle;\n",
       "    }\n",
       "\n",
       "    .dataframe tbody tr th {\n",
       "        vertical-align: top;\n",
       "    }\n",
       "\n",
       "    .dataframe thead th {\n",
       "        text-align: right;\n",
       "    }\n",
       "</style>\n",
       "<table border=\"1\" class=\"dataframe\">\n",
       "  <thead>\n",
       "    <tr style=\"text-align: right;\">\n",
       "      <th></th>\n",
       "      <th>reviewText</th>\n",
       "      <th>overall</th>\n",
       "    </tr>\n",
       "  </thead>\n",
       "  <tbody>\n",
       "    <tr>\n",
       "      <th>178154</th>\n",
       "      <td>a convenient package containing 3 colors, perfect for making bracelets, my daughters found them very easy to work with and loved them</td>\n",
       "      <td>4.0</td>\n",
       "    </tr>\n",
       "    <tr>\n",
       "      <th>61839</th>\n",
       "      <td>THese are amazing!! Learn to Needlepoint! So easy, and everything is included!</td>\n",
       "      <td>5.0</td>\n",
       "    </tr>\n",
       "    <tr>\n",
       "      <th>27031</th>\n",
       "      <td>Apply it to a blank canvas as a prep or use it in acrylic paint as a tint. Many different uses. Use your imagination!</td>\n",
       "      <td>4.0</td>\n",
       "    </tr>\n",
       "    <tr>\n",
       "      <th>461906</th>\n",
       "      <td>Great fabric organizers they work out so well to organize trims and ribbons.</td>\n",
       "      <td>5.0</td>\n",
       "    </tr>\n",
       "    <tr>\n",
       "      <th>299595</th>\n",
       "      <td>I had a little trouble figuring out the wire arm at first (I didn't pull it out hard enough), but now I love this thing. I crochet and use yarn bowls and this winds all different kinds of yarn perfectly for my use. A great decision for my little business.</td>\n",
       "      <td>5.0</td>\n",
       "    </tr>\n",
       "  </tbody>\n",
       "</table>\n",
       "</div>"
      ],
      "text/plain": [
       "                                                                                                                                                                                                                                                             reviewText  \\\n",
       "178154                                                                                                                            a convenient package containing 3 colors, perfect for making bracelets, my daughters found them very easy to work with and loved them   \n",
       "61839                                                                                                                                                                                    THese are amazing!! Learn to Needlepoint! So easy, and everything is included!   \n",
       "27031                                                                                                                                             Apply it to a blank canvas as a prep or use it in acrylic paint as a tint. Many different uses. Use your imagination!   \n",
       "461906                                                                                                                                                                                     Great fabric organizers they work out so well to organize trims and ribbons.   \n",
       "299595  I had a little trouble figuring out the wire arm at first (I didn't pull it out hard enough), but now I love this thing. I crochet and use yarn bowls and this winds all different kinds of yarn perfectly for my use. A great decision for my little business.   \n",
       "\n",
       "        overall  \n",
       "178154      4.0  \n",
       "61839       5.0  \n",
       "27031       4.0  \n",
       "461906      5.0  \n",
       "299595      5.0  "
      ]
     },
     "metadata": {},
     "output_type": "display_data"
    },
    {
     "name": "stdout",
     "output_type": "stream",
     "text": [
      "\n",
      "\u001b[1mprime_pantry\u001b[0m, length=10000\n"
     ]
    },
    {
     "data": {
      "text/html": [
       "<div>\n",
       "<style scoped>\n",
       "    .dataframe tbody tr th:only-of-type {\n",
       "        vertical-align: middle;\n",
       "    }\n",
       "\n",
       "    .dataframe tbody tr th {\n",
       "        vertical-align: top;\n",
       "    }\n",
       "\n",
       "    .dataframe thead th {\n",
       "        text-align: right;\n",
       "    }\n",
       "</style>\n",
       "<table border=\"1\" class=\"dataframe\">\n",
       "  <thead>\n",
       "    <tr style=\"text-align: right;\">\n",
       "      <th></th>\n",
       "      <th>reviewText</th>\n",
       "      <th>overall</th>\n",
       "    </tr>\n",
       "  </thead>\n",
       "  <tbody>\n",
       "    <tr>\n",
       "      <th>136999</th>\n",
       "      <td>Kids really liked it.</td>\n",
       "      <td>4.0</td>\n",
       "    </tr>\n",
       "    <tr>\n",
       "      <th>129084</th>\n",
       "      <td>It works as it should. It's mascara, I really cannot gush.</td>\n",
       "      <td>5.0</td>\n",
       "    </tr>\n",
       "    <tr>\n",
       "      <th>102299</th>\n",
       "      <td>really great</td>\n",
       "      <td>5.0</td>\n",
       "    </tr>\n",
       "    <tr>\n",
       "      <th>112986</th>\n",
       "      <td>This is the only brand I buy anymore.  Does.the.job.</td>\n",
       "      <td>5.0</td>\n",
       "    </tr>\n",
       "    <tr>\n",
       "      <th>129768</th>\n",
       "      <td>I thought it would mix with coffee, agave, and a splash of creamer to make a \"Mocha\", but it didn't (lies on the bottom, rather . I will try again, and add it when the concoction starts fo cool. It states clearly that it mixes well with milk, so maybe that means cold only. I'm sure it's a good product.</td>\n",
       "      <td>4.0</td>\n",
       "    </tr>\n",
       "  </tbody>\n",
       "</table>\n",
       "</div>"
      ],
      "text/plain": [
       "                                                                                                                                                                                                                                                                                                             reviewText  \\\n",
       "136999                                                                                                                                                                                                                                                                                            Kids really liked it.   \n",
       "129084                                                                                                                                                                                                                                                       It works as it should. It's mascara, I really cannot gush.   \n",
       "102299                                                                                                                                                                                                                                                                                                     really great   \n",
       "112986                                                                                                                                                                                                                                                             This is the only brand I buy anymore.  Does.the.job.   \n",
       "129768  I thought it would mix with coffee, agave, and a splash of creamer to make a \"Mocha\", but it didn't (lies on the bottom, rather . I will try again, and add it when the concoction starts fo cool. It states clearly that it mixes well with milk, so maybe that means cold only. I'm sure it's a good product.   \n",
       "\n",
       "        overall  \n",
       "136999      4.0  \n",
       "129084      5.0  \n",
       "102299      5.0  \n",
       "112986      5.0  \n",
       "129768      4.0  "
      ]
     },
     "metadata": {},
     "output_type": "display_data"
    },
    {
     "name": "stdout",
     "output_type": "stream",
     "text": [
      "\n",
      "\u001b[1mindustrial_and_scientific\u001b[0m, length=10000\n"
     ]
    },
    {
     "data": {
      "text/html": [
       "<div>\n",
       "<style scoped>\n",
       "    .dataframe tbody tr th:only-of-type {\n",
       "        vertical-align: middle;\n",
       "    }\n",
       "\n",
       "    .dataframe tbody tr th {\n",
       "        vertical-align: top;\n",
       "    }\n",
       "\n",
       "    .dataframe thead th {\n",
       "        text-align: right;\n",
       "    }\n",
       "</style>\n",
       "<table border=\"1\" class=\"dataframe\">\n",
       "  <thead>\n",
       "    <tr style=\"text-align: right;\">\n",
       "      <th></th>\n",
       "      <th>reviewText</th>\n",
       "      <th>overall</th>\n",
       "    </tr>\n",
       "  </thead>\n",
       "  <tbody>\n",
       "    <tr>\n",
       "      <th>26084</th>\n",
       "      <td>These are great for containing moisture in sensitive storage areas.  Work great so far!</td>\n",
       "      <td>5.0</td>\n",
       "    </tr>\n",
       "    <tr>\n",
       "      <th>51929</th>\n",
       "      <td>Nice.</td>\n",
       "      <td>5.0</td>\n",
       "    </tr>\n",
       "    <tr>\n",
       "      <th>45159</th>\n",
       "      <td>I use these in my tool drawers in my shop to help prevent rust. I like the 50 Pack, I put some in all the drawers for complete coverage.</td>\n",
       "      <td>5.0</td>\n",
       "    </tr>\n",
       "    <tr>\n",
       "      <th>12174</th>\n",
       "      <td>Excellent for soldering / de-soldering support !!  I love how I can clamp onto a 2 pin / 3 pin component and just let the weight of the tweezers pull the component out as I de-solder the leads !!!  High quality and reasonable price !!</td>\n",
       "      <td>5.0</td>\n",
       "    </tr>\n",
       "    <tr>\n",
       "      <th>52772</th>\n",
       "      <td>Correct bed adhesion is challenging on larger parts for obvious reasons. Skookum as frig prints though, really excellent.</td>\n",
       "      <td>5.0</td>\n",
       "    </tr>\n",
       "  </tbody>\n",
       "</table>\n",
       "</div>"
      ],
      "text/plain": [
       "                                                                                                                                                                                                                                       reviewText  \\\n",
       "26084                                                                                                                                                     These are great for containing moisture in sensitive storage areas.  Work great so far!   \n",
       "51929                                                                                                                                                                                                                                       Nice.   \n",
       "45159                                                                                                    I use these in my tool drawers in my shop to help prevent rust. I like the 50 Pack, I put some in all the drawers for complete coverage.   \n",
       "12174  Excellent for soldering / de-soldering support !!  I love how I can clamp onto a 2 pin / 3 pin component and just let the weight of the tweezers pull the component out as I de-solder the leads !!!  High quality and reasonable price !!   \n",
       "52772                                                                                                                   Correct bed adhesion is challenging on larger parts for obvious reasons. Skookum as frig prints though, really excellent.   \n",
       "\n",
       "       overall  \n",
       "26084      5.0  \n",
       "51929      5.0  \n",
       "45159      5.0  \n",
       "12174      5.0  \n",
       "52772      5.0  "
      ]
     },
     "metadata": {},
     "output_type": "display_data"
    },
    {
     "name": "stdout",
     "output_type": "stream",
     "text": [
      "\n",
      "\u001b[1mgift_cards\u001b[0m, length=1891\n"
     ]
    },
    {
     "data": {
      "text/html": [
       "<div>\n",
       "<style scoped>\n",
       "    .dataframe tbody tr th:only-of-type {\n",
       "        vertical-align: middle;\n",
       "    }\n",
       "\n",
       "    .dataframe tbody tr th {\n",
       "        vertical-align: top;\n",
       "    }\n",
       "\n",
       "    .dataframe thead th {\n",
       "        text-align: right;\n",
       "    }\n",
       "</style>\n",
       "<table border=\"1\" class=\"dataframe\">\n",
       "  <thead>\n",
       "    <tr style=\"text-align: right;\">\n",
       "      <th></th>\n",
       "      <th>reviewText</th>\n",
       "      <th>overall</th>\n",
       "    </tr>\n",
       "  </thead>\n",
       "  <tbody>\n",
       "    <tr>\n",
       "      <th>1378</th>\n",
       "      <td>everyone lived this for christmas better thqn just a plain naked card to give them</td>\n",
       "      <td>5.0</td>\n",
       "    </tr>\n",
       "    <tr>\n",
       "      <th>1041</th>\n",
       "      <td>Great gift card to use shopping for affordable cloths at JCPenny. 20% off only available on Amazon. What a great Thanksgiving purchase.</td>\n",
       "      <td>5.0</td>\n",
       "    </tr>\n",
       "    <tr>\n",
       "      <th>2154</th>\n",
       "      <td>pizzzza</td>\n",
       "      <td>5.0</td>\n",
       "    </tr>\n",
       "    <tr>\n",
       "      <th>2012</th>\n",
       "      <td>This is the 1st time to get as an email, as I was going to see a movie tonight.  It worked just fine. :)</td>\n",
       "      <td>5.0</td>\n",
       "    </tr>\n",
       "    <tr>\n",
       "      <th>2591</th>\n",
       "      <td>A birthday present my niece loved.</td>\n",
       "      <td>5.0</td>\n",
       "    </tr>\n",
       "  </tbody>\n",
       "</table>\n",
       "</div>"
      ],
      "text/plain": [
       "                                                                                                                                   reviewText  \\\n",
       "1378                                                       everyone lived this for christmas better thqn just a plain naked card to give them   \n",
       "1041  Great gift card to use shopping for affordable cloths at JCPenny. 20% off only available on Amazon. What a great Thanksgiving purchase.   \n",
       "2154                                                                                                                                  pizzzza   \n",
       "2012                                 This is the 1st time to get as an email, as I was going to see a movie tonight.  It worked just fine. :)   \n",
       "2591                                                                                                       A birthday present my niece loved.   \n",
       "\n",
       "      overall  \n",
       "1378      5.0  \n",
       "1041      5.0  \n",
       "2154      5.0  \n",
       "2012      5.0  \n",
       "2591      5.0  "
      ]
     },
     "metadata": {},
     "output_type": "display_data"
    },
    {
     "name": "stdout",
     "output_type": "stream",
     "text": [
      "\n",
      "\u001b[1mall_beauty\u001b[0m, length=1097\n"
     ]
    },
    {
     "data": {
      "text/html": [
       "<div>\n",
       "<style scoped>\n",
       "    .dataframe tbody tr th:only-of-type {\n",
       "        vertical-align: middle;\n",
       "    }\n",
       "\n",
       "    .dataframe tbody tr th {\n",
       "        vertical-align: top;\n",
       "    }\n",
       "\n",
       "    .dataframe thead th {\n",
       "        text-align: right;\n",
       "    }\n",
       "</style>\n",
       "<table border=\"1\" class=\"dataframe\">\n",
       "  <thead>\n",
       "    <tr style=\"text-align: right;\">\n",
       "      <th></th>\n",
       "      <th>reviewText</th>\n",
       "      <th>overall</th>\n",
       "    </tr>\n",
       "  </thead>\n",
       "  <tbody>\n",
       "    <tr>\n",
       "      <th>4</th>\n",
       "      <td>If you ever want to feel pampered by a shampoo this one is the one.  It smells like a wonderful perfume and cleans your hair until it shines plus adding a fullness that most other shampoo's don't give you.  It is expensive, but worth it!</td>\n",
       "      <td>5.0</td>\n",
       "    </tr>\n",
       "    <tr>\n",
       "      <th>4934</th>\n",
       "      <td>favorite soap since it has only a slight scent. It has shea butter in it. It does not leave a soap residue</td>\n",
       "      <td>5.0</td>\n",
       "    </tr>\n",
       "    <tr>\n",
       "      <th>753</th>\n",
       "      <td>I really enjoy this product. They started selling it at our local store so I don't need to order it online any more. I am allergic to many products, so I was happy to find this one.</td>\n",
       "      <td>5.0</td>\n",
       "    </tr>\n",
       "    <tr>\n",
       "      <th>81</th>\n",
       "      <td>This and the matching conditioner saved my scalp. My hair was falling out due to a very dry scalp. Nothing else I tried would cure my issue. My head literally hurt. After one use, my scalp had real relief. My hair looks beautiful after just two washes. I'm definitely going to buy this again. The smell is not great, but you'll look past it to save your scalp. It is one of the only products that is 100% truly organic. No added chemicals. Very gentle and effective. I highly recommend this product.</td>\n",
       "      <td>5.0</td>\n",
       "    </tr>\n",
       "    <tr>\n",
       "      <th>781</th>\n",
       "      <td>I was so happy that I was able to purchase my favorite Bath &amp; Body Works scent that had been discontinued in the store. This was a great price for the three bottles, and if this person/company has more of this scent I am going to buy more!</td>\n",
       "      <td>5.0</td>\n",
       "    </tr>\n",
       "  </tbody>\n",
       "</table>\n",
       "</div>"
      ],
      "text/plain": [
       "                                                                                                                                                                                                                                                                                                                                                                                                                                                                                                               reviewText  \\\n",
       "4                                                                                                                                                                                                                                                                           If you ever want to feel pampered by a shampoo this one is the one.  It smells like a wonderful perfume and cleans your hair until it shines plus adding a fullness that most other shampoo's don't give you.  It is expensive, but worth it!   \n",
       "4934                                                                                                                                                                                                                                                                                                                                                                                                           favorite soap since it has only a slight scent. It has shea butter in it. It does not leave a soap residue   \n",
       "753                                                                                                                                                                                                                                                                                                                                 I really enjoy this product. They started selling it at our local store so I don't need to order it online any more. I am allergic to many products, so I was happy to find this one.   \n",
       "81    This and the matching conditioner saved my scalp. My hair was falling out due to a very dry scalp. Nothing else I tried would cure my issue. My head literally hurt. After one use, my scalp had real relief. My hair looks beautiful after just two washes. I'm definitely going to buy this again. The smell is not great, but you'll look past it to save your scalp. It is one of the only products that is 100% truly organic. No added chemicals. Very gentle and effective. I highly recommend this product.   \n",
       "781                                                                                                                                                                                                                                                                       I was so happy that I was able to purchase my favorite Bath & Body Works scent that had been discontinued in the store. This was a great price for the three bottles, and if this person/company has more of this scent I am going to buy more!   \n",
       "\n",
       "      overall  \n",
       "4         5.0  \n",
       "4934      5.0  \n",
       "753       5.0  \n",
       "81        5.0  \n",
       "781       5.0  "
      ]
     },
     "metadata": {},
     "output_type": "display_data"
    },
    {
     "name": "stdout",
     "output_type": "stream",
     "text": [
      "\n",
      "\u001b[1mmagazine_subscriptions\u001b[0m, length=1399\n"
     ]
    },
    {
     "data": {
      "text/html": [
       "<div>\n",
       "<style scoped>\n",
       "    .dataframe tbody tr th:only-of-type {\n",
       "        vertical-align: middle;\n",
       "    }\n",
       "\n",
       "    .dataframe tbody tr th {\n",
       "        vertical-align: top;\n",
       "    }\n",
       "\n",
       "    .dataframe thead th {\n",
       "        text-align: right;\n",
       "    }\n",
       "</style>\n",
       "<table border=\"1\" class=\"dataframe\">\n",
       "  <thead>\n",
       "    <tr style=\"text-align: right;\">\n",
       "      <th></th>\n",
       "      <th>reviewText</th>\n",
       "      <th>overall</th>\n",
       "    </tr>\n",
       "  </thead>\n",
       "  <tbody>\n",
       "    <tr>\n",
       "      <th>1628</th>\n",
       "      <td>This is my favorite 'family' magazine of all times.  Infor and articles on houses, cleaning, recipes, family activities, family health, organizing, different towns/cities, vacation ideas, etc.  It is always fresh, family appropriate, with lots of find more info links too if something catches your interest.\\n\\nThe best all around family magazine in my opinion!</td>\n",
       "      <td>5.0</td>\n",
       "    </tr>\n",
       "    <tr>\n",
       "      <th>10</th>\n",
       "      <td>I love glamour mag. I have read it for over 25 years. The articles are most always good and some of the clothes are beautiful.</td>\n",
       "      <td>5.0</td>\n",
       "    </tr>\n",
       "    <tr>\n",
       "      <th>1870</th>\n",
       "      <td>I like this magazine. The recipes are seasonal which makes keeping an interesting menu plan easy. Most of the recipes are accessible and don't require a ton of special or pricey ingredients. My only complaint is that the focus is on eating \"light\" which isn't always eating \"healthy.\"</td>\n",
       "      <td>4.0</td>\n",
       "    </tr>\n",
       "    <tr>\n",
       "      <th>956</th>\n",
       "      <td>This is a great magazine to get.  Lots of health tips on a variety of subjects and its smaller size I can stick it in my purse\\nwhen I anticipate having to wait somewhere  Always learn something in each issue</td>\n",
       "      <td>5.0</td>\n",
       "    </tr>\n",
       "    <tr>\n",
       "      <th>1674</th>\n",
       "      <td>Enjoy reading their human interest stories.</td>\n",
       "      <td>5.0</td>\n",
       "    </tr>\n",
       "  </tbody>\n",
       "</table>\n",
       "</div>"
      ],
      "text/plain": [
       "                                                                                                                                                                                                                                                                                                                                                                     reviewText  \\\n",
       "1628  This is my favorite 'family' magazine of all times.  Infor and articles on houses, cleaning, recipes, family activities, family health, organizing, different towns/cities, vacation ideas, etc.  It is always fresh, family appropriate, with lots of find more info links too if something catches your interest.\\n\\nThe best all around family magazine in my opinion!   \n",
       "10                                                                                                                                                                                                                                               I love glamour mag. I have read it for over 25 years. The articles are most always good and some of the clothes are beautiful.   \n",
       "1870                                                                               I like this magazine. The recipes are seasonal which makes keeping an interesting menu plan easy. Most of the recipes are accessible and don't require a ton of special or pricey ingredients. My only complaint is that the focus is on eating \"light\" which isn't always eating \"healthy.\"   \n",
       "956                                                                                                                                                            This is a great magazine to get.  Lots of health tips on a variety of subjects and its smaller size I can stick it in my purse\\nwhen I anticipate having to wait somewhere  Always learn something in each issue   \n",
       "1674                                                                                                                                                                                                                                                                                                                                Enjoy reading their human interest stories.   \n",
       "\n",
       "      overall  \n",
       "1628      5.0  \n",
       "10        5.0  \n",
       "1870      4.0  \n",
       "956       5.0  \n",
       "1674      5.0  "
      ]
     },
     "metadata": {},
     "output_type": "display_data"
    },
    {
     "name": "stdout",
     "output_type": "stream",
     "text": [
      "\n",
      "\u001b[1mdigital_music\u001b[0m, length=10000\n"
     ]
    },
    {
     "data": {
      "text/html": [
       "<div>\n",
       "<style scoped>\n",
       "    .dataframe tbody tr th:only-of-type {\n",
       "        vertical-align: middle;\n",
       "    }\n",
       "\n",
       "    .dataframe tbody tr th {\n",
       "        vertical-align: top;\n",
       "    }\n",
       "\n",
       "    .dataframe thead th {\n",
       "        text-align: right;\n",
       "    }\n",
       "</style>\n",
       "<table border=\"1\" class=\"dataframe\">\n",
       "  <thead>\n",
       "    <tr style=\"text-align: right;\">\n",
       "      <th></th>\n",
       "      <th>reviewText</th>\n",
       "      <th>overall</th>\n",
       "    </tr>\n",
       "  </thead>\n",
       "  <tbody>\n",
       "    <tr>\n",
       "      <th>23673</th>\n",
       "      <td>he sings  those notes like he is playing a killer lead guitar</td>\n",
       "      <td>5.0</td>\n",
       "    </tr>\n",
       "    <tr>\n",
       "      <th>123640</th>\n",
       "      <td>love it, one of their best songs beautifully sung.</td>\n",
       "      <td>4.0</td>\n",
       "    </tr>\n",
       "    <tr>\n",
       "      <th>116392</th>\n",
       "      <td>I like the feel of the song. Anfeemlyrics not too crazy about.</td>\n",
       "      <td>5.0</td>\n",
       "    </tr>\n",
       "    <tr>\n",
       "      <th>111934</th>\n",
       "      <td>I love this song! It's so upbeat and the perfect addition to any summer road trip mix.</td>\n",
       "      <td>5.0</td>\n",
       "    </tr>\n",
       "    <tr>\n",
       "      <th>100944</th>\n",
       "      <td>Wow!  Wonderful, beautiful, 5 stars all the way.</td>\n",
       "      <td>5.0</td>\n",
       "    </tr>\n",
       "  </tbody>\n",
       "</table>\n",
       "</div>"
      ],
      "text/plain": [
       "                                                                                    reviewText  \\\n",
       "23673                            he sings  those notes like he is playing a killer lead guitar   \n",
       "123640                                      love it, one of their best songs beautifully sung.   \n",
       "116392                          I like the feel of the song. Anfeemlyrics not too crazy about.   \n",
       "111934  I love this song! It's so upbeat and the perfect addition to any summer road trip mix.   \n",
       "100944                                        Wow!  Wonderful, beautiful, 5 stars all the way.   \n",
       "\n",
       "        overall  \n",
       "23673       5.0  \n",
       "123640      4.0  \n",
       "116392      5.0  \n",
       "111934      5.0  \n",
       "100944      5.0  "
      ]
     },
     "metadata": {},
     "output_type": "display_data"
    },
    {
     "name": "stdout",
     "output_type": "stream",
     "text": [
      "\n",
      "\u001b[1mappliances\u001b[0m, length=123\n"
     ]
    },
    {
     "data": {
      "text/html": [
       "<div>\n",
       "<style scoped>\n",
       "    .dataframe tbody tr th:only-of-type {\n",
       "        vertical-align: middle;\n",
       "    }\n",
       "\n",
       "    .dataframe tbody tr th {\n",
       "        vertical-align: top;\n",
       "    }\n",
       "\n",
       "    .dataframe thead th {\n",
       "        text-align: right;\n",
       "    }\n",
       "</style>\n",
       "<table border=\"1\" class=\"dataframe\">\n",
       "  <thead>\n",
       "    <tr style=\"text-align: right;\">\n",
       "      <th></th>\n",
       "      <th>reviewText</th>\n",
       "      <th>overall</th>\n",
       "    </tr>\n",
       "  </thead>\n",
       "  <tbody>\n",
       "    <tr>\n",
       "      <th>2241</th>\n",
       "      <td>First time I used this brand. But will buy it again. Worked just like all the others I have bought in the past</td>\n",
       "      <td>5.0</td>\n",
       "    </tr>\n",
       "    <tr>\n",
       "      <th>2234</th>\n",
       "      <td>Filter works just like the more expensive filters</td>\n",
       "      <td>5.0</td>\n",
       "    </tr>\n",
       "    <tr>\n",
       "      <th>14</th>\n",
       "      <td>Great product</td>\n",
       "      <td>5.0</td>\n",
       "    </tr>\n",
       "    <tr>\n",
       "      <th>15</th>\n",
       "      <td>Did the job for fixing our Maytag dryer</td>\n",
       "      <td>5.0</td>\n",
       "    </tr>\n",
       "    <tr>\n",
       "      <th>21</th>\n",
       "      <td>Since the motor on my humidifier still works, all I had to do was run vinegar through it twice and replace the filter.  It's operating good as new, at least until it doesn't.\\n\\nThe filter is important as it reduces the really fine white dust just as advertised.  There's no way to look at the old used filter to know it should be replaced, but there's no way one of these can be used for two seasons.</td>\n",
       "      <td>5.0</td>\n",
       "    </tr>\n",
       "  </tbody>\n",
       "</table>\n",
       "</div>"
      ],
      "text/plain": [
       "                                                                                                                                                                                                                                                                                                                                                                                                             reviewText  \\\n",
       "2241                                                                                                                                                                                                                                                                                                     First time I used this brand. But will buy it again. Worked just like all the others I have bought in the past   \n",
       "2234                                                                                                                                                                                                                                                                                                                                                                  Filter works just like the more expensive filters   \n",
       "14                                                                                                                                                                                                                                                                                                                                                                                                        Great product   \n",
       "15                                                                                                                                                                                                                                                                                                                                                                              Did the job for fixing our Maytag dryer   \n",
       "21    Since the motor on my humidifier still works, all I had to do was run vinegar through it twice and replace the filter.  It's operating good as new, at least until it doesn't.\\n\\nThe filter is important as it reduces the really fine white dust just as advertised.  There's no way to look at the old used filter to know it should be replaced, but there's no way one of these can be used for two seasons.   \n",
       "\n",
       "      overall  \n",
       "2241      5.0  \n",
       "2234      5.0  \n",
       "14        5.0  \n",
       "15        5.0  \n",
       "21        5.0  "
      ]
     },
     "metadata": {},
     "output_type": "display_data"
    },
    {
     "name": "stdout",
     "output_type": "stream",
     "text": [
      "\n",
      "\u001b[1mmusical_instruments\u001b[0m, length=10000\n"
     ]
    },
    {
     "data": {
      "text/html": [
       "<div>\n",
       "<style scoped>\n",
       "    .dataframe tbody tr th:only-of-type {\n",
       "        vertical-align: middle;\n",
       "    }\n",
       "\n",
       "    .dataframe tbody tr th {\n",
       "        vertical-align: top;\n",
       "    }\n",
       "\n",
       "    .dataframe thead th {\n",
       "        text-align: right;\n",
       "    }\n",
       "</style>\n",
       "<table border=\"1\" class=\"dataframe\">\n",
       "  <thead>\n",
       "    <tr style=\"text-align: right;\">\n",
       "      <th></th>\n",
       "      <th>reviewText</th>\n",
       "      <th>overall</th>\n",
       "    </tr>\n",
       "  </thead>\n",
       "  <tbody>\n",
       "    <tr>\n",
       "      <th>68029</th>\n",
       "      <td>great practice pad for new drummers, could make a better pad, I love it, I can play on this anywhere...</td>\n",
       "      <td>5.0</td>\n",
       "    </tr>\n",
       "    <tr>\n",
       "      <th>143083</th>\n",
       "      <td>For a musician on a budget, this bag met all of my requirements: backpack straps, protective padding, and plenty of storage compartments. I'm able to carry everything I need along with the guitar: picks, accessories, cord, music, and music stand. Although the pocket that is intended to hold music (papers, a folder, etc.) is a bit small, it gets the job done. And the backpack straps have always been my favorite feature when it comes to cases, as I can have two free hands when transporting my guitars. Great product for the price.</td>\n",
       "      <td>5.0</td>\n",
       "    </tr>\n",
       "    <tr>\n",
       "      <th>59424</th>\n",
       "      <td>Great guitar strap. Hooks on well. Great value! Does what it needs to, it is simple. I use it for my guitar and play as a hobby. Great for hobbyists and performers alike!</td>\n",
       "      <td>5.0</td>\n",
       "    </tr>\n",
       "    <tr>\n",
       "      <th>34418</th>\n",
       "      <td>Unfortunately it fits so perfect that only this guitar will fit but oh well thats all I need.</td>\n",
       "      <td>5.0</td>\n",
       "    </tr>\n",
       "    <tr>\n",
       "      <th>130754</th>\n",
       "      <td>I bought 2 of these to fool around with my electric guitar, but I wouldn't recommend 'em. guess sometimes you simply get what you paid for...</td>\n",
       "      <td>1.0</td>\n",
       "    </tr>\n",
       "  </tbody>\n",
       "</table>\n",
       "</div>"
      ],
      "text/plain": [
       "                                                                                                                                                                                                                                                                                                                                                                                                                                                                                                                                                   reviewText  \\\n",
       "68029                                                                                                                                                                                                                                                                                                                                                                                                                                                 great practice pad for new drummers, could make a better pad, I love it, I can play on this anywhere...   \n",
       "143083  For a musician on a budget, this bag met all of my requirements: backpack straps, protective padding, and plenty of storage compartments. I'm able to carry everything I need along with the guitar: picks, accessories, cord, music, and music stand. Although the pocket that is intended to hold music (papers, a folder, etc.) is a bit small, it gets the job done. And the backpack straps have always been my favorite feature when it comes to cases, as I can have two free hands when transporting my guitars. Great product for the price.   \n",
       "59424                                                                                                                                                                                                                                                                                                                                                                              Great guitar strap. Hooks on well. Great value! Does what it needs to, it is simple. I use it for my guitar and play as a hobby. Great for hobbyists and performers alike!   \n",
       "34418                                                                                                                                                                                                                                                                                                                                                                                                                                                           Unfortunately it fits so perfect that only this guitar will fit but oh well thats all I need.   \n",
       "130754                                                                                                                                                                                                                                                                                                                                                                                                          I bought 2 of these to fool around with my electric guitar, but I wouldn't recommend 'em. guess sometimes you simply get what you paid for...   \n",
       "\n",
       "        overall  \n",
       "68029       5.0  \n",
       "143083      5.0  \n",
       "59424       5.0  \n",
       "34418       5.0  \n",
       "130754      1.0  "
      ]
     },
     "metadata": {},
     "output_type": "display_data"
    },
    {
     "name": "stdout",
     "output_type": "stream",
     "text": [
      "\n",
      "\u001b[1mamazon_fashion\u001b[0m, length=380\n"
     ]
    },
    {
     "data": {
      "text/html": [
       "<div>\n",
       "<style scoped>\n",
       "    .dataframe tbody tr th:only-of-type {\n",
       "        vertical-align: middle;\n",
       "    }\n",
       "\n",
       "    .dataframe tbody tr th {\n",
       "        vertical-align: top;\n",
       "    }\n",
       "\n",
       "    .dataframe thead th {\n",
       "        text-align: right;\n",
       "    }\n",
       "</style>\n",
       "<table border=\"1\" class=\"dataframe\">\n",
       "  <thead>\n",
       "    <tr style=\"text-align: right;\">\n",
       "      <th></th>\n",
       "      <th>reviewText</th>\n",
       "      <th>overall</th>\n",
       "    </tr>\n",
       "  </thead>\n",
       "  <tbody>\n",
       "    <tr>\n",
       "      <th>392</th>\n",
       "      <td>Good quality, perfect fit.  It's a Nike!</td>\n",
       "      <td>5.0</td>\n",
       "    </tr>\n",
       "    <tr>\n",
       "      <th>468</th>\n",
       "      <td>Love these! I have 3 pairs...they're so comfortable - I'm on my feet all day &amp; my feet actually don't hurt at the end of the day when I wear these :)\\nI've learned to get these 1/2 size smaller....I'm normally a size 7 and the 6 1/2 fit perfectly</td>\n",
       "      <td>5.0</td>\n",
       "    </tr>\n",
       "    <tr>\n",
       "      <th>383</th>\n",
       "      <td>Good fit and comfy.  Not so cushiony so definetly better for training and not for running or aerobics. Bought size 8 which is my usual size.</td>\n",
       "      <td>5.0</td>\n",
       "    </tr>\n",
       "    <tr>\n",
       "      <th>183</th>\n",
       "      <td>My knees were bothering me during HIIT workouts so i  purchased these shoes after researching many styles.  Fit true to size and are lightweight.  My knees feel better so so hard so good.  They are cute in too!!</td>\n",
       "      <td>5.0</td>\n",
       "    </tr>\n",
       "    <tr>\n",
       "      <th>421</th>\n",
       "      <td>There very nice</td>\n",
       "      <td>5.0</td>\n",
       "    </tr>\n",
       "  </tbody>\n",
       "</table>\n",
       "</div>"
      ],
      "text/plain": [
       "                                                                                                                                                                                                                                                 reviewText  \\\n",
       "392                                                                                                                                                                                                                Good quality, perfect fit.  It's a Nike!   \n",
       "468  Love these! I have 3 pairs...they're so comfortable - I'm on my feet all day & my feet actually don't hurt at the end of the day when I wear these :)\\nI've learned to get these 1/2 size smaller....I'm normally a size 7 and the 6 1/2 fit perfectly   \n",
       "383                                                                                                            Good fit and comfy.  Not so cushiony so definetly better for training and not for running or aerobics. Bought size 8 which is my usual size.   \n",
       "183                                     My knees were bothering me during HIIT workouts so i  purchased these shoes after researching many styles.  Fit true to size and are lightweight.  My knees feel better so so hard so good.  They are cute in too!!   \n",
       "421                                                                                                                                                                                                                                         There very nice   \n",
       "\n",
       "     overall  \n",
       "392      5.0  \n",
       "468      5.0  \n",
       "383      5.0  \n",
       "183      5.0  \n",
       "421      5.0  "
      ]
     },
     "metadata": {},
     "output_type": "display_data"
    },
    {
     "name": "stdout",
     "output_type": "stream",
     "text": [
      "\n"
     ]
    }
   ],
   "source": [
    "for category, df in category_to_df.items():\n",
    "    if len(df) > 10000:\n",
    "        df = df.sample(10000, random_state=random_state)\n",
    "        category_to_df[category] = df\n",
    "        \n",
    "    print(f\"\\033[1m{category}\\033[0m, length={len(df)}\")\n",
    "    display(df.sample(5, random_state=random_state))\n",
    "    print()"
   ]
  },
  {
   "cell_type": "code",
   "execution_count": 9,
   "metadata": {},
   "outputs": [
    {
     "data": {
      "text/plain": [
       "69405"
      ]
     },
     "execution_count": 9,
     "metadata": {},
     "output_type": "execute_result"
    }
   ],
   "source": [
    "sum([len(df) for df in category_to_df.values()])"
   ]
  },
  {
   "cell_type": "code",
   "execution_count": 10,
   "metadata": {},
   "outputs": [
    {
     "data": {
      "text/plain": [
       "0.4322455154527772"
      ]
     },
     "execution_count": 10,
     "metadata": {},
     "output_type": "execute_result"
    }
   ],
   "source": [
    "source_domains = get_all_source_domains()\n",
    "sum([len(category_to_df[domain]) for domain in source_domains]) / sum([len(df) for df in category_to_df.values()])"
   ]
  },
  {
   "cell_type": "code",
   "execution_count": null,
   "metadata": {},
   "outputs": [],
   "source": []
  }
 ],
 "metadata": {
  "kernelspec": {
   "display_name": "6806",
   "language": "python",
   "name": "python3"
  },
  "language_info": {
   "codemirror_mode": {
    "name": "ipython",
    "version": 3
   },
   "file_extension": ".py",
   "mimetype": "text/x-python",
   "name": "python",
   "nbconvert_exporter": "python",
   "pygments_lexer": "ipython3",
   "version": "3.9.5"
  }
 },
 "nbformat": 4,
 "nbformat_minor": 2
}
