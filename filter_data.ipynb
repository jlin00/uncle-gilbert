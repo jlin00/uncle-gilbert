{
 "cells": [
  {
   "cell_type": "code",
   "execution_count": 25,
   "metadata": {},
   "outputs": [],
   "source": [
    "import os \n",
    "import random \n",
    "random.seed(6806) \n",
    "random_state = 6806\n",
    "\n",
    "import pandas as pd\n",
    "pd.set_option(\"display.max_colwidth\", None)\n",
    "\n",
    "from utils import *"
   ]
  },
  {
   "cell_type": "code",
   "execution_count": 26,
   "metadata": {},
   "outputs": [],
   "source": [
    "csv_files = [f\"data/{file}\" for file in os.listdir(\"data\") if file.endswith(\".csv\")]"
   ]
  },
  {
   "cell_type": "code",
   "execution_count": 27,
   "metadata": {},
   "outputs": [
    {
     "data": {
      "text/plain": [
       "['data/luxury_beauty.csv',\n",
       " 'data/software.csv',\n",
       " 'data/arts_crafts_and_sewing.csv',\n",
       " 'data/prime_pantry.csv',\n",
       " 'data/industrial_and_scientific.csv',\n",
       " 'data/gift_cards.csv',\n",
       " 'data/all_beauty.csv',\n",
       " 'data/magazine_subscriptions.csv',\n",
       " 'data/digital_music.csv',\n",
       " 'data/appliances.csv',\n",
       " 'data/musical_instruments.csv',\n",
       " 'data/amazon_fashion.csv']"
      ]
     },
     "execution_count": 27,
     "metadata": {},
     "output_type": "execute_result"
    }
   ],
   "source": [
    "csv_files"
   ]
  },
  {
   "cell_type": "code",
   "execution_count": 28,
   "metadata": {},
   "outputs": [
    {
     "name": "stdout",
     "output_type": "stream",
     "text": [
      "luxury_beauty 34278 14910\n",
      "software 12805 4996\n",
      "arts_crafts_and_sewing 494485 330242\n",
      "prime_pantry 137788 96007\n",
      "industrial_and_scientific 77071 51382\n",
      "gift_cards 2972 1920\n",
      "all_beauty 5269 1128\n",
      "magazine_subscriptions 2375 1542\n",
      "digital_music 169781 86578\n",
      "appliances 2277 127\n",
      "musical_instruments 231392 157809\n",
      "amazon_fashion 3176 426\n"
     ]
    }
   ],
   "source": [
    "category_to_df = {} \n",
    "\n",
    "for path in csv_files:\n",
    "    df = pd.read_csv(path, index_col=[0])\n",
    "    original_length = len(df)\n",
    "\n",
    "    df = df.drop_duplicates()\n",
    "    df = df[(df[\"reviewText\"].str.split().str.len() > 0) & (df[\"reviewText\"].str.split().str.len() <= 100)] # Exclude reviews that are too long\n",
    "\n",
    "    category = path.split(\"/\")[-1][:-4]\n",
    "    category_to_df[category] = df \n",
    "    \n",
    "    print(category, original_length, len(df))"
   ]
  },
  {
   "cell_type": "code",
   "execution_count": 29,
   "metadata": {},
   "outputs": [
    {
     "data": {
      "text/plain": [
       "747067"
      ]
     },
     "execution_count": 29,
     "metadata": {},
     "output_type": "execute_result"
    }
   ],
   "source": [
    "sum([len(df) for df in category_to_df.values()])"
   ]
  },
  {
   "cell_type": "code",
   "execution_count": 30,
   "metadata": {},
   "outputs": [
    {
     "name": "stdout",
     "output_type": "stream",
     "text": [
      "\u001b[1mluxury_beauty\u001b[0m, length=10000\n"
     ]
    },
    {
     "data": {
      "text/html": [
       "<div>\n",
       "<style scoped>\n",
       "    .dataframe tbody tr th:only-of-type {\n",
       "        vertical-align: middle;\n",
       "    }\n",
       "\n",
       "    .dataframe tbody tr th {\n",
       "        vertical-align: top;\n",
       "    }\n",
       "\n",
       "    .dataframe thead th {\n",
       "        text-align: right;\n",
       "    }\n",
       "</style>\n",
       "<table border=\"1\" class=\"dataframe\">\n",
       "  <thead>\n",
       "    <tr style=\"text-align: right;\">\n",
       "      <th></th>\n",
       "      <th>reviewText</th>\n",
       "      <th>overall</th>\n",
       "    </tr>\n",
       "  </thead>\n",
       "  <tbody>\n",
       "    <tr>\n",
       "      <th>4769</th>\n",
       "      <td>Expensive &amp; I think it only works with the Acne Gel (also by PCA) but the two together do a good job at keeping my skin clear.</td>\n",
       "      <td>5.0</td>\n",
       "    </tr>\n",
       "    <tr>\n",
       "      <th>26558</th>\n",
       "      <td>Great product for my skin with acne.</td>\n",
       "      <td>5.0</td>\n",
       "    </tr>\n",
       "    <tr>\n",
       "      <th>15248</th>\n",
       "      <td>In my personal opinion, color is good to be used as base for another one.  Didn't like it using it alone-very solid color, no glossy or pearl like finish.</td>\n",
       "      <td>2.0</td>\n",
       "    </tr>\n",
       "    <tr>\n",
       "      <th>6881</th>\n",
       "      <td>Best moisturizer I have ever used.  Skin looks softer and smoother and younger and brighter :-)</td>\n",
       "      <td>5.0</td>\n",
       "    </tr>\n",
       "    <tr>\n",
       "      <th>842</th>\n",
       "      <td>This foundation is a very good match to my complexion. I am very pale, and the color doesn't stand out.  I need a light coverage foundation, and this is light and makes my skin look dewy and glowing.  A very nice product, even for older skin.</td>\n",
       "      <td>5.0</td>\n",
       "    </tr>\n",
       "  </tbody>\n",
       "</table>\n",
       "</div>"
      ],
      "text/plain": [
       "                                                                                                                                                                                                                                               reviewText  \\\n",
       "4769                                                                                                                       Expensive & I think it only works with the Acne Gel (also by PCA) but the two together do a good job at keeping my skin clear.   \n",
       "26558                                                                                                                                                                                                                Great product for my skin with acne.   \n",
       "15248                                                                                          In my personal opinion, color is good to be used as base for another one.  Didn't like it using it alone-very solid color, no glossy or pearl like finish.   \n",
       "6881                                                                                                                                                      Best moisturizer I have ever used.  Skin looks softer and smoother and younger and brighter :-)   \n",
       "842    This foundation is a very good match to my complexion. I am very pale, and the color doesn't stand out.  I need a light coverage foundation, and this is light and makes my skin look dewy and glowing.  A very nice product, even for older skin.   \n",
       "\n",
       "       overall  \n",
       "4769       5.0  \n",
       "26558      5.0  \n",
       "15248      2.0  \n",
       "6881       5.0  \n",
       "842        5.0  "
      ]
     },
     "metadata": {},
     "output_type": "display_data"
    },
    {
     "name": "stdout",
     "output_type": "stream",
     "text": [
      "\n",
      "\u001b[1msoftware\u001b[0m, length=4996\n"
     ]
    },
    {
     "data": {
      "text/html": [
       "<div>\n",
       "<style scoped>\n",
       "    .dataframe tbody tr th:only-of-type {\n",
       "        vertical-align: middle;\n",
       "    }\n",
       "\n",
       "    .dataframe tbody tr th {\n",
       "        vertical-align: top;\n",
       "    }\n",
       "\n",
       "    .dataframe thead th {\n",
       "        text-align: right;\n",
       "    }\n",
       "</style>\n",
       "<table border=\"1\" class=\"dataframe\">\n",
       "  <thead>\n",
       "    <tr style=\"text-align: right;\">\n",
       "      <th></th>\n",
       "      <th>reviewText</th>\n",
       "      <th>overall</th>\n",
       "    </tr>\n",
       "  </thead>\n",
       "  <tbody>\n",
       "    <tr>\n",
       "      <th>12542</th>\n",
       "      <td>Found the firewall either blocks too much or does not block enough.  Antivirus on a mac is over kill and it slowed my system down.</td>\n",
       "      <td>1.0</td>\n",
       "    </tr>\n",
       "    <tr>\n",
       "      <th>9008</th>\n",
       "      <td>Office 365 is what I've been using for my email and documents for over a year now.  It's great to have access to all of my files, with the ability to edit and share them, from wherever I go. Getting a subscription card just makes it that much easier, so you don't have to worry about reoccurring payments - it's a great gift for a college student!</td>\n",
       "      <td>5.0</td>\n",
       "    </tr>\n",
       "    <tr>\n",
       "      <th>10922</th>\n",
       "      <td>Very easy to install; no computer skills required.\\n\\nMcAfee is my preferred choice of protection.  I've never had issues\\n\\nOn my daughter's laptop, I was able to install parental controls.  On my desktop and laptop, it was easy to skip the installation of parental controls.\\n\\nHighly recommend!</td>\n",
       "      <td>5.0</td>\n",
       "    </tr>\n",
       "    <tr>\n",
       "      <th>6435</th>\n",
       "      <td>Windows 7 still the best Operating System Microsoft has released blows windows 8 out of the water and loved the price.</td>\n",
       "      <td>5.0</td>\n",
       "    </tr>\n",
       "    <tr>\n",
       "      <th>350</th>\n",
       "      <td>I don't have this exact model, I have Zoom's Model #3048, which is nearly identical. I've had it for just over five months, (got it at Staples), and it's a terrific modem. Very reliable and stable. If you're in the market for an external modem, I highly recommend this one.</td>\n",
       "      <td>5.0</td>\n",
       "    </tr>\n",
       "  </tbody>\n",
       "</table>\n",
       "</div>"
      ],
      "text/plain": [
       "                                                                                                                                                                                                                                                                                                                                                        reviewText  \\\n",
       "12542                                                                                                                                                                                                                           Found the firewall either blocks too much or does not block enough.  Antivirus on a mac is over kill and it slowed my system down.   \n",
       "9008   Office 365 is what I've been using for my email and documents for over a year now.  It's great to have access to all of my files, with the ability to edit and share them, from wherever I go. Getting a subscription card just makes it that much easier, so you don't have to worry about reoccurring payments - it's a great gift for a college student!   \n",
       "10922                                                    Very easy to install; no computer skills required.\\n\\nMcAfee is my preferred choice of protection.  I've never had issues\\n\\nOn my daughter's laptop, I was able to install parental controls.  On my desktop and laptop, it was easy to skip the installation of parental controls.\\n\\nHighly recommend!   \n",
       "6435                                                                                                                                                                                                                                        Windows 7 still the best Operating System Microsoft has released blows windows 8 out of the water and loved the price.   \n",
       "350                                                                              I don't have this exact model, I have Zoom's Model #3048, which is nearly identical. I've had it for just over five months, (got it at Staples), and it's a terrific modem. Very reliable and stable. If you're in the market for an external modem, I highly recommend this one.   \n",
       "\n",
       "       overall  \n",
       "12542      1.0  \n",
       "9008       5.0  \n",
       "10922      5.0  \n",
       "6435       5.0  \n",
       "350        5.0  "
      ]
     },
     "metadata": {},
     "output_type": "display_data"
    },
    {
     "name": "stdout",
     "output_type": "stream",
     "text": [
      "\n",
      "\u001b[1marts_crafts_and_sewing\u001b[0m, length=10000\n"
     ]
    },
    {
     "data": {
      "text/html": [
       "<div>\n",
       "<style scoped>\n",
       "    .dataframe tbody tr th:only-of-type {\n",
       "        vertical-align: middle;\n",
       "    }\n",
       "\n",
       "    .dataframe tbody tr th {\n",
       "        vertical-align: top;\n",
       "    }\n",
       "\n",
       "    .dataframe thead th {\n",
       "        text-align: right;\n",
       "    }\n",
       "</style>\n",
       "<table border=\"1\" class=\"dataframe\">\n",
       "  <thead>\n",
       "    <tr style=\"text-align: right;\">\n",
       "      <th></th>\n",
       "      <th>reviewText</th>\n",
       "      <th>overall</th>\n",
       "    </tr>\n",
       "  </thead>\n",
       "  <tbody>\n",
       "    <tr>\n",
       "      <th>222695</th>\n",
       "      <td>These work so much nicer than pins in some cases ... when working with Vinyl you can't use pins as holes will be left behind , this eliminates that problem ...</td>\n",
       "      <td>5.0</td>\n",
       "    </tr>\n",
       "    <tr>\n",
       "      <th>413917</th>\n",
       "      <td>Very pleased with this purchase.  Great value for a full set of hooks with a few smaller ones you normally don't find.  All felt smooth and I did try a few before writing this review.  They were fine to work with and had my preferred \"Boye-type\" hook shape rather than the Susan Bates.  Sizes were marked in mm and they came in a ziplock bag.  Great set and would purchase again if the need arose.</td>\n",
       "      <td>5.0</td>\n",
       "    </tr>\n",
       "    <tr>\n",
       "      <th>164061</th>\n",
       "      <td>always love ab</td>\n",
       "      <td>5.0</td>\n",
       "    </tr>\n",
       "    <tr>\n",
       "      <th>359681</th>\n",
       "      <td>LOVE THEM NOW I AM NOT STABBING MYSELF WITH A METAL NEEDLE!</td>\n",
       "      <td>5.0</td>\n",
       "    </tr>\n",
       "    <tr>\n",
       "      <th>200313</th>\n",
       "      <td>The product came on time and the colors are very vivid.  I'm gonna order some more. At the price it is a good deal. No breakage or tangling or anything.  Love it.</td>\n",
       "      <td>5.0</td>\n",
       "    </tr>\n",
       "  </tbody>\n",
       "</table>\n",
       "</div>"
      ],
      "text/plain": [
       "                                                                                                                                                                                                                                                                                                                                                                                                           reviewText  \\\n",
       "222695                                                                                                                                                                                                                                                These work so much nicer than pins in some cases ... when working with Vinyl you can't use pins as holes will be left behind , this eliminates that problem ...   \n",
       "413917  Very pleased with this purchase.  Great value for a full set of hooks with a few smaller ones you normally don't find.  All felt smooth and I did try a few before writing this review.  They were fine to work with and had my preferred \"Boye-type\" hook shape rather than the Susan Bates.  Sizes were marked in mm and they came in a ziplock bag.  Great set and would purchase again if the need arose.   \n",
       "164061                                                                                                                                                                                                                                                                                                                                                                                                 always love ab   \n",
       "359681                                                                                                                                                                                                                                                                                                                                                    LOVE THEM NOW I AM NOT STABBING MYSELF WITH A METAL NEEDLE!   \n",
       "200313                                                                                                                                                                                                                                             The product came on time and the colors are very vivid.  I'm gonna order some more. At the price it is a good deal. No breakage or tangling or anything.  Love it.   \n",
       "\n",
       "        overall  \n",
       "222695      5.0  \n",
       "413917      5.0  \n",
       "164061      5.0  \n",
       "359681      5.0  \n",
       "200313      5.0  "
      ]
     },
     "metadata": {},
     "output_type": "display_data"
    },
    {
     "name": "stdout",
     "output_type": "stream",
     "text": [
      "\n",
      "\u001b[1mprime_pantry\u001b[0m, length=10000\n"
     ]
    },
    {
     "data": {
      "text/html": [
       "<div>\n",
       "<style scoped>\n",
       "    .dataframe tbody tr th:only-of-type {\n",
       "        vertical-align: middle;\n",
       "    }\n",
       "\n",
       "    .dataframe tbody tr th {\n",
       "        vertical-align: top;\n",
       "    }\n",
       "\n",
       "    .dataframe thead th {\n",
       "        text-align: right;\n",
       "    }\n",
       "</style>\n",
       "<table border=\"1\" class=\"dataframe\">\n",
       "  <thead>\n",
       "    <tr style=\"text-align: right;\">\n",
       "      <th></th>\n",
       "      <th>reviewText</th>\n",
       "      <th>overall</th>\n",
       "    </tr>\n",
       "  </thead>\n",
       "  <tbody>\n",
       "    <tr>\n",
       "      <th>89790</th>\n",
       "      <td>My son doesn't like minty toothpaste so I was excited to try this flavor. HE LOVES IT! He has an expander and braces so good dental hygiene is very important now more than ever. I am very pleased we found this flavor!</td>\n",
       "      <td>5.0</td>\n",
       "    </tr>\n",
       "    <tr>\n",
       "      <th>23356</th>\n",
       "      <td>I wanted these for a healthier snack but I don't like them at all. The flavor isn't too bad but the texture is terrible. I know they aren't claiming to be gummies but that was closer to my expectation for the texture. I was disappointed.</td>\n",
       "      <td>2.0</td>\n",
       "    </tr>\n",
       "    <tr>\n",
       "      <th>46538</th>\n",
       "      <td>A must have for all bathrooms especially when regular toilet paper just won't do. You can use it to wipe off make-up too. Refillable. I keep one in each bathroom.</td>\n",
       "      <td>5.0</td>\n",
       "    </tr>\n",
       "    <tr>\n",
       "      <th>51266</th>\n",
       "      <td>I buy this for tuna salad sandwiches...it's already in bits.</td>\n",
       "      <td>4.0</td>\n",
       "    </tr>\n",
       "    <tr>\n",
       "      <th>105718</th>\n",
       "      <td>Favorite of all the Folgers. Too bad they they decreased the amt and increased the cost... Have to wait for sale to buy again</td>\n",
       "      <td>5.0</td>\n",
       "    </tr>\n",
       "  </tbody>\n",
       "</table>\n",
       "</div>"
      ],
      "text/plain": [
       "                                                                                                                                                                                                                                           reviewText  \\\n",
       "89790                       My son doesn't like minty toothpaste so I was excited to try this flavor. HE LOVES IT! He has an expander and braces so good dental hygiene is very important now more than ever. I am very pleased we found this flavor!   \n",
       "23356   I wanted these for a healthier snack but I don't like them at all. The flavor isn't too bad but the texture is terrible. I know they aren't claiming to be gummies but that was closer to my expectation for the texture. I was disappointed.   \n",
       "46538                                                                              A must have for all bathrooms especially when regular toilet paper just won't do. You can use it to wipe off make-up too. Refillable. I keep one in each bathroom.   \n",
       "51266                                                                                                                                                                                    I buy this for tuna salad sandwiches...it's already in bits.   \n",
       "105718                                                                                                                  Favorite of all the Folgers. Too bad they they decreased the amt and increased the cost... Have to wait for sale to buy again   \n",
       "\n",
       "        overall  \n",
       "89790       5.0  \n",
       "23356       2.0  \n",
       "46538       5.0  \n",
       "51266       4.0  \n",
       "105718      5.0  "
      ]
     },
     "metadata": {},
     "output_type": "display_data"
    },
    {
     "name": "stdout",
     "output_type": "stream",
     "text": [
      "\n",
      "\u001b[1mindustrial_and_scientific\u001b[0m, length=10000\n"
     ]
    },
    {
     "data": {
      "text/html": [
       "<div>\n",
       "<style scoped>\n",
       "    .dataframe tbody tr th:only-of-type {\n",
       "        vertical-align: middle;\n",
       "    }\n",
       "\n",
       "    .dataframe tbody tr th {\n",
       "        vertical-align: top;\n",
       "    }\n",
       "\n",
       "    .dataframe thead th {\n",
       "        text-align: right;\n",
       "    }\n",
       "</style>\n",
       "<table border=\"1\" class=\"dataframe\">\n",
       "  <thead>\n",
       "    <tr style=\"text-align: right;\">\n",
       "      <th></th>\n",
       "      <th>reviewText</th>\n",
       "      <th>overall</th>\n",
       "    </tr>\n",
       "  </thead>\n",
       "  <tbody>\n",
       "    <tr>\n",
       "      <th>68294</th>\n",
       "      <td>Exactly as Described. Fast Shipping. Good Price. Really Easy to use. Good Adhesion. No Cuts on hands. Seems Durable. Couldn't be Happier. Thank you!</td>\n",
       "      <td>5.0</td>\n",
       "    </tr>\n",
       "    <tr>\n",
       "      <th>8506</th>\n",
       "      <td>Very solid. I have not yet been able to put it to use, but it appears to be very well made.</td>\n",
       "      <td>5.0</td>\n",
       "    </tr>\n",
       "    <tr>\n",
       "      <th>20722</th>\n",
       "      <td>Lets you draw clear and accurate lines on metal. Dries fast enough and comes of easel enough. Has a great appearance, not that this matters in a practical sense. Always wanted something like this as I make steel gate hardware and it is nice to do it in a professional way.</td>\n",
       "      <td>5.0</td>\n",
       "    </tr>\n",
       "    <tr>\n",
       "      <th>57260</th>\n",
       "      <td>great for gasoline fuel lines! I replaced the return line in my car using this hose. Make sure to get hose clamps, preferably stainless steel.\\n\\nhttp://www.instructables.com/id/Replacing-a-fuel-return-line/</td>\n",
       "      <td>5.0</td>\n",
       "    </tr>\n",
       "    <tr>\n",
       "      <th>33514</th>\n",
       "      <td>It arrived but haven't used it yet.  Im sure its fine.</td>\n",
       "      <td>5.0</td>\n",
       "    </tr>\n",
       "  </tbody>\n",
       "</table>\n",
       "</div>"
      ],
      "text/plain": [
       "                                                                                                                                                                                                                                                                             reviewText  \\\n",
       "68294                                                                                                                              Exactly as Described. Fast Shipping. Good Price. Really Easy to use. Good Adhesion. No Cuts on hands. Seems Durable. Couldn't be Happier. Thank you!   \n",
       "8506                                                                                                                                                                                        Very solid. I have not yet been able to put it to use, but it appears to be very well made.   \n",
       "20722  Lets you draw clear and accurate lines on metal. Dries fast enough and comes of easel enough. Has a great appearance, not that this matters in a practical sense. Always wanted something like this as I make steel gate hardware and it is nice to do it in a professional way.   \n",
       "57260                                                                   great for gasoline fuel lines! I replaced the return line in my car using this hose. Make sure to get hose clamps, preferably stainless steel.\\n\\nhttp://www.instructables.com/id/Replacing-a-fuel-return-line/   \n",
       "33514                                                                                                                                                                                                                            It arrived but haven't used it yet.  Im sure its fine.   \n",
       "\n",
       "       overall  \n",
       "68294      5.0  \n",
       "8506       5.0  \n",
       "20722      5.0  \n",
       "57260      5.0  \n",
       "33514      5.0  "
      ]
     },
     "metadata": {},
     "output_type": "display_data"
    },
    {
     "name": "stdout",
     "output_type": "stream",
     "text": [
      "\n",
      "\u001b[1mgift_cards\u001b[0m, length=1920\n"
     ]
    },
    {
     "data": {
      "text/html": [
       "<div>\n",
       "<style scoped>\n",
       "    .dataframe tbody tr th:only-of-type {\n",
       "        vertical-align: middle;\n",
       "    }\n",
       "\n",
       "    .dataframe tbody tr th {\n",
       "        vertical-align: top;\n",
       "    }\n",
       "\n",
       "    .dataframe thead th {\n",
       "        text-align: right;\n",
       "    }\n",
       "</style>\n",
       "<table border=\"1\" class=\"dataframe\">\n",
       "  <thead>\n",
       "    <tr style=\"text-align: right;\">\n",
       "      <th></th>\n",
       "      <th>reviewText</th>\n",
       "      <th>overall</th>\n",
       "    </tr>\n",
       "  </thead>\n",
       "  <tbody>\n",
       "    <tr>\n",
       "      <th>745</th>\n",
       "      <td>Was a great gift.  They loved it.</td>\n",
       "      <td>5.0</td>\n",
       "    </tr>\n",
       "    <tr>\n",
       "      <th>741</th>\n",
       "      <td>great card given for xmas.</td>\n",
       "      <td>5.0</td>\n",
       "    </tr>\n",
       "    <tr>\n",
       "      <th>1384</th>\n",
       "      <td>great gift and the tin is very nice</td>\n",
       "      <td>5.0</td>\n",
       "    </tr>\n",
       "    <tr>\n",
       "      <th>2171</th>\n",
       "      <td>Very nice gift presentation.</td>\n",
       "      <td>5.0</td>\n",
       "    </tr>\n",
       "    <tr>\n",
       "      <th>2554</th>\n",
       "      <td>food was ok</td>\n",
       "      <td>4.0</td>\n",
       "    </tr>\n",
       "  </tbody>\n",
       "</table>\n",
       "</div>"
      ],
      "text/plain": [
       "                               reviewText  overall\n",
       "745     Was a great gift.  They loved it.      5.0\n",
       "741            great card given for xmas.      5.0\n",
       "1384  great gift and the tin is very nice      5.0\n",
       "2171         Very nice gift presentation.      5.0\n",
       "2554                          food was ok      4.0"
      ]
     },
     "metadata": {},
     "output_type": "display_data"
    },
    {
     "name": "stdout",
     "output_type": "stream",
     "text": [
      "\n",
      "\u001b[1mall_beauty\u001b[0m, length=1128\n"
     ]
    },
    {
     "data": {
      "text/html": [
       "<div>\n",
       "<style scoped>\n",
       "    .dataframe tbody tr th:only-of-type {\n",
       "        vertical-align: middle;\n",
       "    }\n",
       "\n",
       "    .dataframe tbody tr th {\n",
       "        vertical-align: top;\n",
       "    }\n",
       "\n",
       "    .dataframe thead th {\n",
       "        text-align: right;\n",
       "    }\n",
       "</style>\n",
       "<table border=\"1\" class=\"dataframe\">\n",
       "  <thead>\n",
       "    <tr style=\"text-align: right;\">\n",
       "      <th></th>\n",
       "      <th>reviewText</th>\n",
       "      <th>overall</th>\n",
       "    </tr>\n",
       "  </thead>\n",
       "  <tbody>\n",
       "    <tr>\n",
       "      <th>261</th>\n",
       "      <td>Awesome product</td>\n",
       "      <td>5.0</td>\n",
       "    </tr>\n",
       "    <tr>\n",
       "      <th>709</th>\n",
       "      <td>This body wash is so concentrated and fragrant. It lathers beautifully and moisturizes.</td>\n",
       "      <td>5.0</td>\n",
       "    </tr>\n",
       "    <tr>\n",
       "      <th>739</th>\n",
       "      <td>This gel is so fragrant and good lather.  Very luxurious!</td>\n",
       "      <td>5.0</td>\n",
       "    </tr>\n",
       "    <tr>\n",
       "      <th>5267</th>\n",
       "      <td>Ok this eye gel is good stuff.</td>\n",
       "      <td>5.0</td>\n",
       "    </tr>\n",
       "    <tr>\n",
       "      <th>361</th>\n",
       "      <td>It's all my son uses and great price and delivery</td>\n",
       "      <td>5.0</td>\n",
       "    </tr>\n",
       "  </tbody>\n",
       "</table>\n",
       "</div>"
      ],
      "text/plain": [
       "                                                                                   reviewText  \\\n",
       "261                                                                           Awesome product   \n",
       "709   This body wash is so concentrated and fragrant. It lathers beautifully and moisturizes.   \n",
       "739                                 This gel is so fragrant and good lather.  Very luxurious!   \n",
       "5267                                                           Ok this eye gel is good stuff.   \n",
       "361                                         It's all my son uses and great price and delivery   \n",
       "\n",
       "      overall  \n",
       "261       5.0  \n",
       "709       5.0  \n",
       "739       5.0  \n",
       "5267      5.0  \n",
       "361       5.0  "
      ]
     },
     "metadata": {},
     "output_type": "display_data"
    },
    {
     "name": "stdout",
     "output_type": "stream",
     "text": [
      "\n",
      "\u001b[1mmagazine_subscriptions\u001b[0m, length=1542\n"
     ]
    },
    {
     "data": {
      "text/html": [
       "<div>\n",
       "<style scoped>\n",
       "    .dataframe tbody tr th:only-of-type {\n",
       "        vertical-align: middle;\n",
       "    }\n",
       "\n",
       "    .dataframe tbody tr th {\n",
       "        vertical-align: top;\n",
       "    }\n",
       "\n",
       "    .dataframe thead th {\n",
       "        text-align: right;\n",
       "    }\n",
       "</style>\n",
       "<table border=\"1\" class=\"dataframe\">\n",
       "  <thead>\n",
       "    <tr style=\"text-align: right;\">\n",
       "      <th></th>\n",
       "      <th>reviewText</th>\n",
       "      <th>overall</th>\n",
       "    </tr>\n",
       "  </thead>\n",
       "  <tbody>\n",
       "    <tr>\n",
       "      <th>626</th>\n",
       "      <td>Got this one as a free read on the Fire and was very surprised to even see it listed, as I am a print subscriber and I didn't even know there was a Kindle edition. Still haven't been able to find out how/if print subscribers could get the Kindle edition included with their subscription. Mag looks nice on the Fire though.</td>\n",
       "      <td>3.0</td>\n",
       "    </tr>\n",
       "    <tr>\n",
       "      <th>1485</th>\n",
       "      <td>I love this magazine. However every since I moved I have not received my magazines and I put in my new address.</td>\n",
       "      <td>5.0</td>\n",
       "    </tr>\n",
       "    <tr>\n",
       "      <th>1168</th>\n",
       "      <td>In an age where \"People\" magazine and \"Enquirer\" are bestsellers, this lovely magazine is a treasure. I actually appreciate the new glossy look. There's no reason why a magazine can't look beautiful and still be a useful product and informative. The gardening articles are always the best but the other material is good too.\\n\\nThe articles are always good and I usually read the magazine from cover to cover when I get it. A great choice for people who love the natural world.</td>\n",
       "      <td>5.0</td>\n",
       "    </tr>\n",
       "    <tr>\n",
       "      <th>450</th>\n",
       "      <td>love it...super cheap and easy to view on my kindle fire hd</td>\n",
       "      <td>5.0</td>\n",
       "    </tr>\n",
       "    <tr>\n",
       "      <th>2095</th>\n",
       "      <td>What a fun magazine to receive every month!  I love the recipes that are included each month and reading about the TV personalities who prepared them.</td>\n",
       "      <td>5.0</td>\n",
       "    </tr>\n",
       "  </tbody>\n",
       "</table>\n",
       "</div>"
      ],
      "text/plain": [
       "                                                                                                                                                                                                                                                                                                                                                                                                                                                                                         reviewText  \\\n",
       "626                                                                                                                                                              Got this one as a free read on the Fire and was very surprised to even see it listed, as I am a print subscriber and I didn't even know there was a Kindle edition. Still haven't been able to find out how/if print subscribers could get the Kindle edition included with their subscription. Mag looks nice on the Fire though.   \n",
       "1485                                                                                                                                                                                                                                                                                                                                                                                I love this magazine. However every since I moved I have not received my magazines and I put in my new address.   \n",
       "1168  In an age where \"People\" magazine and \"Enquirer\" are bestsellers, this lovely magazine is a treasure. I actually appreciate the new glossy look. There's no reason why a magazine can't look beautiful and still be a useful product and informative. The gardening articles are always the best but the other material is good too.\\n\\nThe articles are always good and I usually read the magazine from cover to cover when I get it. A great choice for people who love the natural world.   \n",
       "450                                                                                                                                                                                                                                                                                                                                                                                                                                     love it...super cheap and easy to view on my kindle fire hd   \n",
       "2095                                                                                                                                                                                                                                                                                                                                         What a fun magazine to receive every month!  I love the recipes that are included each month and reading about the TV personalities who prepared them.   \n",
       "\n",
       "      overall  \n",
       "626       3.0  \n",
       "1485      5.0  \n",
       "1168      5.0  \n",
       "450       5.0  \n",
       "2095      5.0  "
      ]
     },
     "metadata": {},
     "output_type": "display_data"
    },
    {
     "name": "stdout",
     "output_type": "stream",
     "text": [
      "\n",
      "\u001b[1mdigital_music\u001b[0m, length=10000\n"
     ]
    },
    {
     "data": {
      "text/html": [
       "<div>\n",
       "<style scoped>\n",
       "    .dataframe tbody tr th:only-of-type {\n",
       "        vertical-align: middle;\n",
       "    }\n",
       "\n",
       "    .dataframe tbody tr th {\n",
       "        vertical-align: top;\n",
       "    }\n",
       "\n",
       "    .dataframe thead th {\n",
       "        text-align: right;\n",
       "    }\n",
       "</style>\n",
       "<table border=\"1\" class=\"dataframe\">\n",
       "  <thead>\n",
       "    <tr style=\"text-align: right;\">\n",
       "      <th></th>\n",
       "      <th>reviewText</th>\n",
       "      <th>overall</th>\n",
       "    </tr>\n",
       "  </thead>\n",
       "  <tbody>\n",
       "    <tr>\n",
       "      <th>166885</th>\n",
       "      <td>I picked this song because I liked the sound of the beat.</td>\n",
       "      <td>3.0</td>\n",
       "    </tr>\n",
       "    <tr>\n",
       "      <th>93404</th>\n",
       "      <td>this is a catchy, upbeat song. Love it.</td>\n",
       "      <td>5.0</td>\n",
       "    </tr>\n",
       "    <tr>\n",
       "      <th>134794</th>\n",
       "      <td>Love all of willies songs, this is another favorite of mine and it's nice to be able to pick the ones that are special to me.</td>\n",
       "      <td>5.0</td>\n",
       "    </tr>\n",
       "    <tr>\n",
       "      <th>144282</th>\n",
       "      <td>one of the greats from my childhood--associated with lots of good memories and filled with old time worship feelings that touch the soul</td>\n",
       "      <td>5.0</td>\n",
       "    </tr>\n",
       "    <tr>\n",
       "      <th>81013</th>\n",
       "      <td>I like a few of Miguel's songs.  This is one of them.  The quality is good.  It was easy to find and purchase.  I am a satisfied customer.</td>\n",
       "      <td>5.0</td>\n",
       "    </tr>\n",
       "  </tbody>\n",
       "</table>\n",
       "</div>"
      ],
      "text/plain": [
       "                                                                                                                                        reviewText  \\\n",
       "166885                                                                                   I picked this song because I liked the sound of the beat.   \n",
       "93404                                                                                                      this is a catchy, upbeat song. Love it.   \n",
       "134794               Love all of willies songs, this is another favorite of mine and it's nice to be able to pick the ones that are special to me.   \n",
       "144282    one of the greats from my childhood--associated with lots of good memories and filled with old time worship feelings that touch the soul   \n",
       "81013   I like a few of Miguel's songs.  This is one of them.  The quality is good.  It was easy to find and purchase.  I am a satisfied customer.   \n",
       "\n",
       "        overall  \n",
       "166885      3.0  \n",
       "93404       5.0  \n",
       "134794      5.0  \n",
       "144282      5.0  \n",
       "81013       5.0  "
      ]
     },
     "metadata": {},
     "output_type": "display_data"
    },
    {
     "name": "stdout",
     "output_type": "stream",
     "text": [
      "\n",
      "\u001b[1mappliances\u001b[0m, length=127\n"
     ]
    },
    {
     "data": {
      "text/html": [
       "<div>\n",
       "<style scoped>\n",
       "    .dataframe tbody tr th:only-of-type {\n",
       "        vertical-align: middle;\n",
       "    }\n",
       "\n",
       "    .dataframe tbody tr th {\n",
       "        vertical-align: top;\n",
       "    }\n",
       "\n",
       "    .dataframe thead th {\n",
       "        text-align: right;\n",
       "    }\n",
       "</style>\n",
       "<table border=\"1\" class=\"dataframe\">\n",
       "  <thead>\n",
       "    <tr style=\"text-align: right;\">\n",
       "      <th></th>\n",
       "      <th>reviewText</th>\n",
       "      <th>overall</th>\n",
       "    </tr>\n",
       "  </thead>\n",
       "  <tbody>\n",
       "    <tr>\n",
       "      <th>20</th>\n",
       "      <td>A spare thermofuse.  Two years ago my dryer spun but there was no heat.  I got a service tech undid the back and changed it in seconds.  So I decided for the price I ordered a spare just in case.</td>\n",
       "      <td>4.0</td>\n",
       "    </tr>\n",
       "    <tr>\n",
       "      <th>109</th>\n",
       "      <td>Good  Job</td>\n",
       "      <td>5.0</td>\n",
       "    </tr>\n",
       "    <tr>\n",
       "      <th>14</th>\n",
       "      <td>Great product</td>\n",
       "      <td>5.0</td>\n",
       "    </tr>\n",
       "    <tr>\n",
       "      <th>15</th>\n",
       "      <td>Did the job for fixing our Maytag dryer</td>\n",
       "      <td>5.0</td>\n",
       "    </tr>\n",
       "    <tr>\n",
       "      <th>21</th>\n",
       "      <td>Since the motor on my humidifier still works, all I had to do was run vinegar through it twice and replace the filter.  It's operating good as new, at least until it doesn't.\\n\\nThe filter is important as it reduces the really fine white dust just as advertised.  There's no way to look at the old used filter to know it should be replaced, but there's no way one of these can be used for two seasons.</td>\n",
       "      <td>5.0</td>\n",
       "    </tr>\n",
       "  </tbody>\n",
       "</table>\n",
       "</div>"
      ],
      "text/plain": [
       "                                                                                                                                                                                                                                                                                                                                                                                                            reviewText  \\\n",
       "20                                                                                                                                                                                                                 A spare thermofuse.  Two years ago my dryer spun but there was no heat.  I got a service tech undid the back and changed it in seconds.  So I decided for the price I ordered a spare just in case.   \n",
       "109                                                                                                                                                                                                                                                                                                                                                                                                          Good  Job   \n",
       "14                                                                                                                                                                                                                                                                                                                                                                                                       Great product   \n",
       "15                                                                                                                                                                                                                                                                                                                                                                             Did the job for fixing our Maytag dryer   \n",
       "21   Since the motor on my humidifier still works, all I had to do was run vinegar through it twice and replace the filter.  It's operating good as new, at least until it doesn't.\\n\\nThe filter is important as it reduces the really fine white dust just as advertised.  There's no way to look at the old used filter to know it should be replaced, but there's no way one of these can be used for two seasons.   \n",
       "\n",
       "     overall  \n",
       "20       4.0  \n",
       "109      5.0  \n",
       "14       5.0  \n",
       "15       5.0  \n",
       "21       5.0  "
      ]
     },
     "metadata": {},
     "output_type": "display_data"
    },
    {
     "name": "stdout",
     "output_type": "stream",
     "text": [
      "\n",
      "\u001b[1mmusical_instruments\u001b[0m, length=10000\n"
     ]
    },
    {
     "data": {
      "text/html": [
       "<div>\n",
       "<style scoped>\n",
       "    .dataframe tbody tr th:only-of-type {\n",
       "        vertical-align: middle;\n",
       "    }\n",
       "\n",
       "    .dataframe tbody tr th {\n",
       "        vertical-align: top;\n",
       "    }\n",
       "\n",
       "    .dataframe thead th {\n",
       "        text-align: right;\n",
       "    }\n",
       "</style>\n",
       "<table border=\"1\" class=\"dataframe\">\n",
       "  <thead>\n",
       "    <tr style=\"text-align: right;\">\n",
       "      <th></th>\n",
       "      <th>reviewText</th>\n",
       "      <th>overall</th>\n",
       "    </tr>\n",
       "  </thead>\n",
       "  <tbody>\n",
       "    <tr>\n",
       "      <th>69414</th>\n",
       "      <td>It's perfect for what I wanted, the bad thing is that it does not have a power button, it also has a small buzz, but that with all the connected instruments disappears.</td>\n",
       "      <td>4.0</td>\n",
       "    </tr>\n",
       "    <tr>\n",
       "      <th>81332</th>\n",
       "      <td>must have itim</td>\n",
       "      <td>4.0</td>\n",
       "    </tr>\n",
       "    <tr>\n",
       "      <th>28616</th>\n",
       "      <td>too noisy to use, I wanted to retire my 1978 model for this....Dunlop just can't get this right like my old one.</td>\n",
       "      <td>1.0</td>\n",
       "    </tr>\n",
       "    <tr>\n",
       "      <th>192087</th>\n",
       "      <td>Great value! An excellent buy for a small pedal board. Comes with everything you need. Very happy with the quality and all the accessories. So good I bought a second one!</td>\n",
       "      <td>5.0</td>\n",
       "    </tr>\n",
       "    <tr>\n",
       "      <th>8204</th>\n",
       "      <td>Great reeds.</td>\n",
       "      <td>5.0</td>\n",
       "    </tr>\n",
       "  </tbody>\n",
       "</table>\n",
       "</div>"
      ],
      "text/plain": [
       "                                                                                                                                                                        reviewText  \\\n",
       "69414     It's perfect for what I wanted, the bad thing is that it does not have a power button, it also has a small buzz, but that with all the connected instruments disappears.   \n",
       "81332                                                                                                                                                               must have itim   \n",
       "28616                                                             too noisy to use, I wanted to retire my 1978 model for this....Dunlop just can't get this right like my old one.   \n",
       "192087  Great value! An excellent buy for a small pedal board. Comes with everything you need. Very happy with the quality and all the accessories. So good I bought a second one!   \n",
       "8204                                                                                                                                                                  Great reeds.   \n",
       "\n",
       "        overall  \n",
       "69414       4.0  \n",
       "81332       4.0  \n",
       "28616       1.0  \n",
       "192087      5.0  \n",
       "8204        5.0  "
      ]
     },
     "metadata": {},
     "output_type": "display_data"
    },
    {
     "name": "stdout",
     "output_type": "stream",
     "text": [
      "\n",
      "\u001b[1mamazon_fashion\u001b[0m, length=426\n"
     ]
    },
    {
     "data": {
      "text/html": [
       "<div>\n",
       "<style scoped>\n",
       "    .dataframe tbody tr th:only-of-type {\n",
       "        vertical-align: middle;\n",
       "    }\n",
       "\n",
       "    .dataframe tbody tr th {\n",
       "        vertical-align: top;\n",
       "    }\n",
       "\n",
       "    .dataframe thead th {\n",
       "        text-align: right;\n",
       "    }\n",
       "</style>\n",
       "<table border=\"1\" class=\"dataframe\">\n",
       "  <thead>\n",
       "    <tr style=\"text-align: right;\">\n",
       "      <th></th>\n",
       "      <th>reviewText</th>\n",
       "      <th>overall</th>\n",
       "    </tr>\n",
       "  </thead>\n",
       "  <tbody>\n",
       "    <tr>\n",
       "      <th>352</th>\n",
       "      <td>Great fit so comfortable love them!!!!!</td>\n",
       "      <td>5.0</td>\n",
       "    </tr>\n",
       "    <tr>\n",
       "      <th>443</th>\n",
       "      <td>Took other reviewers advice and went up half size and it was too large. I thought this was a more sock-like fit but it had a tongue that came up high on my ankle not at all sock like. Nice looking and very light weight with a rounded square toe that left plenty of room front foot and toes. These just weren't what I was looking for.</td>\n",
       "      <td>3.0</td>\n",
       "    </tr>\n",
       "    <tr>\n",
       "      <th>331</th>\n",
       "      <td>Very comfortable sneakers and I also like the way it fits.</td>\n",
       "      <td>4.0</td>\n",
       "    </tr>\n",
       "    <tr>\n",
       "      <th>216</th>\n",
       "      <td>She loves them</td>\n",
       "      <td>5.0</td>\n",
       "    </tr>\n",
       "    <tr>\n",
       "      <th>334</th>\n",
       "      <td>I love these shoes my second pair of 40 plus $ shoes and they both have certainly out done the $100 K-swiss that I'm looking to return . The shoes are extremely comfortable, all my clients love them, just wish they came in more colors.</td>\n",
       "      <td>5.0</td>\n",
       "    </tr>\n",
       "  </tbody>\n",
       "</table>\n",
       "</div>"
      ],
      "text/plain": [
       "                                                                                                                                                                                                                                                                                                                                        reviewText  \\\n",
       "352                                                                                                                                                                                                                                                                                                        Great fit so comfortable love them!!!!!   \n",
       "443  Took other reviewers advice and went up half size and it was too large. I thought this was a more sock-like fit but it had a tongue that came up high on my ankle not at all sock like. Nice looking and very light weight with a rounded square toe that left plenty of room front foot and toes. These just weren't what I was looking for.   \n",
       "331                                                                                                                                                                                                                                                                                     Very comfortable sneakers and I also like the way it fits.   \n",
       "216                                                                                                                                                                                                                                                                                                                                 She loves them   \n",
       "334                                                                                                    I love these shoes my second pair of 40 plus $ shoes and they both have certainly out done the $100 K-swiss that I'm looking to return . The shoes are extremely comfortable, all my clients love them, just wish they came in more colors.   \n",
       "\n",
       "     overall  \n",
       "352      5.0  \n",
       "443      3.0  \n",
       "331      4.0  \n",
       "216      5.0  \n",
       "334      5.0  "
      ]
     },
     "metadata": {},
     "output_type": "display_data"
    },
    {
     "name": "stdout",
     "output_type": "stream",
     "text": [
      "\n"
     ]
    }
   ],
   "source": [
    "for category, df in category_to_df.items():\n",
    "    if len(df) > 10000:\n",
    "        df = df.sample(10000, random_state=random_state)\n",
    "        category_to_df[category] = df\n",
    "        \n",
    "    print(f\"\\033[1m{category}\\033[0m, length={len(df)}\")\n",
    "    display(df.sample(5, random_state=random_state))\n",
    "    print()"
   ]
  },
  {
   "cell_type": "code",
   "execution_count": 31,
   "metadata": {},
   "outputs": [
    {
     "data": {
      "text/plain": [
       "70139"
      ]
     },
     "execution_count": 31,
     "metadata": {},
     "output_type": "execute_result"
    }
   ],
   "source": [
    "sum([len(df) for df in category_to_df.values()])"
   ]
  },
  {
   "cell_type": "code",
   "execution_count": 32,
   "metadata": {},
   "outputs": [
    {
     "data": {
      "text/plain": [
       "0.42772209469767175"
      ]
     },
     "execution_count": 32,
     "metadata": {},
     "output_type": "execute_result"
    }
   ],
   "source": [
    "source_domains = get_all_source_domains()\n",
    "sum([len(category_to_df[domain]) for domain in source_domains]) / sum([len(df) for df in category_to_df.values()])"
   ]
  },
  {
   "cell_type": "code",
   "execution_count": 34,
   "metadata": {},
   "outputs": [
    {
     "data": {
      "text/plain": [
       "0.13655740743381"
      ]
     },
     "execution_count": 34,
     "metadata": {},
     "output_type": "execute_result"
    }
   ],
   "source": [
    "sum([len(df[df[\"overall\"] <= 3]) for df in category_to_df.values()]) / sum([len(df) for df in category_to_df.values()])"
   ]
  },
  {
   "cell_type": "code",
   "execution_count": null,
   "metadata": {},
   "outputs": [],
   "source": []
  }
 ],
 "metadata": {
  "kernelspec": {
   "display_name": "6806",
   "language": "python",
   "name": "python3"
  },
  "language_info": {
   "codemirror_mode": {
    "name": "ipython",
    "version": 3
   },
   "file_extension": ".py",
   "mimetype": "text/x-python",
   "name": "python",
   "nbconvert_exporter": "python",
   "pygments_lexer": "ipython3",
   "version": "3.9.5"
  }
 },
 "nbformat": 4,
 "nbformat_minor": 2
}
