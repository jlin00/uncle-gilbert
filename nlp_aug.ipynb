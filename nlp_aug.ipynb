{
 "cells": [
  {
   "cell_type": "code",
   "execution_count": 39,
   "metadata": {},
   "outputs": [],
   "source": [
    "import nlpaug.augmenter.char as nac\n",
    "import nlpaug.augmenter.word as naw\n",
    "import nlpaug.augmenter.sentence as nas"
   ]
  },
  {
   "cell_type": "code",
   "execution_count": 40,
   "metadata": {},
   "outputs": [],
   "source": [
    "texts = [\n",
    "    \"Unfortunately it fits so perfect that only this guitar will fit but oh well thats all I need.\",\n",
    "    \"Good fit and comfy. Not so cushiony so definetly better for training and not for running or aerobics. Bought size 8 which is my usual size.\",\n",
    "    \"First time I used this brand. But will buy it again. Worked just like all the others I have bought in the past\",\n",
    "    \"I love glamour mag. I have read it for over 25 years. The articles are most always good and some of the clothes are beautiful.\",\n",
    "    \"These are great for containing moisture in sensitive storage areas. Work great so far!\",\n",
    "    \"The usual high standards of Crabtree and Evelyn show in the Lily of the Valley scented hand cream. The Shea and Macadamia nut butters make my hands feel and look soft. The lovely Lily of the Valley scent is subtle but a hint lingers for several hours. This size tube is perfect for a purse, tote bag, or backpack. I have purchased Crabtree and Evelyn body lotion from the company web site for years, and now it is available at Amazon.\",\n",
    "    \"Not bad but not much better\"\n",
    "]"
   ]
  },
  {
   "cell_type": "code",
   "execution_count": 41,
   "metadata": {},
   "outputs": [
    {
     "name": "stdout",
     "output_type": "stream",
     "text": [
      "Unfortunately it fits so perfect that only this guitar will fit but oh well thats all I need.\n",
      "Unfortunately it fits so perfect that ojly this guitar eill fit but oh well thats all I need.\n",
      "\n",
      "Good fit and comfy. Not so cushiony so definetly better for training and not for running or aerobics. Bought size 8 which is my usual size.\n",
      "Good fit and comfy. Not so cushiony so definetly better for training and not for rknning or aetobics. Boughr size 8 which is my usual size.\n",
      "\n",
      "First time I used this brand. But will buy it again. Worked just like all the others I have bought in the past\n",
      "Furst time I used this brand. But will buy it again. Worued just like all the others I have bought in the pqst\n",
      "\n",
      "I love glamour mag. I have read it for over 25 years. The articles are most always good and some of the clothes are beautiful.\n",
      "I love glamour mag. I havd read it for over 25 yfars. The articles are most always good and dome of the clothes are beautiful.\n",
      "\n",
      "These are great for containing moisture in sensitive storage areas. Work great so far!\n",
      "These are great for containing moisture in sensitive dtorage areas. Wlrk great so far!\n",
      "\n",
      "The usual high standards of Crabtree and Evelyn show in the Lily of the Valley scented hand cream. The Shea and Macadamia nut butters make my hands feel and look soft. The lovely Lily of the Valley scent is subtle but a hint lingers for several hours. This size tube is perfect for a purse, tote bag, or backpack. I have purchased Crabtree and Evelyn body lotion from the company web site for years, and now it is available at Amazon.\n",
      "The usual high standards of Crabtree and Evelyn show in the Lily of the Valley scentee hand cream. The Shea and Mxcadamia nut butters make my hands feel and look soft. The lovely Lily of the Valleh sdent is subtle but a hiny lingers for several hours. Thiz sizw tube is perfect for a purse, tote bag, or backpack. I have purchased Crabtree and Evelyn vody lotion from the company web aite for years, and now it is available at Amazon.\n",
      "\n",
      "Not bad but not much better\n",
      "Not bad but not mucm better\n",
      "\n"
     ]
    }
   ],
   "source": [
    "aug = nac.KeyboardAug(\n",
    "    aug_char_p=0.1, \n",
    "    aug_char_min=1, \n",
    "    aug_word_p=0.1, \n",
    "    aug_word_min=1,\n",
    "    include_special_char=False,\n",
    "    include_upper_case=False,\n",
    "    include_numeric=False\n",
    ")\n",
    "\n",
    "augmented_texts = aug.augment(texts)\n",
    "\n",
    "for original, augmented in zip(texts, augmented_texts):\n",
    "    print(original)\n",
    "    print(augmented)\n",
    "    print()"
   ]
  },
  {
   "cell_type": "code",
   "execution_count": 42,
   "metadata": {},
   "outputs": [
    {
     "name": "stdout",
     "output_type": "stream",
     "text": [
      "Unfortunately it fits so perfect that only this guitar will fit but oh well thats all I need.\n",
      "Unfortunately it fits so perfect that only this guriter will fit but oh well thats all i' need.\n",
      "\n",
      "Good fit and comfy. Not so cushiony so definetly better for training and not for running or aerobics. Bought size 8 which is my usual size.\n",
      "Good fill and comfy. Not so cushiony so definetly [[beter for training &amp not for running or aerobics. Bought size 8 which is my usual size.\n",
      "\n",
      "First time I used this brand. But will buy it again. Worked just like all the others I have bought in the past\n",
      "First time I used this brand. But will buy iti again. Worked just lika all the others Im have bought in the past\n",
      "\n",
      "I love glamour mag. I have read it for over 25 years. The articles are most always good and some of the clothes are beautiful.\n",
      "I love glamour mag. I have readed it for over 25 years. The articles are most always good and soom of the clothes are byutiful.\n",
      "\n",
      "These are great for containing moisture in sensitive storage areas. Work great so far!\n",
      "These are great Fow containing moisture in sensitive storage areas. Work great so for!\n",
      "\n",
      "The usual high standards of Crabtree and Evelyn show in the Lily of the Valley scented hand cream. The Shea and Macadamia nut butters make my hands feel and look soft. The lovely Lily of the Valley scent is subtle but a hint lingers for several hours. This size tube is perfect for a purse, tote bag, or backpack. I have purchased Crabtree and Evelyn body lotion from the company web site for years, and now it is available at Amazon.\n",
      "The usual high standards of Crabtree ou Evelyn show in the Lily of the Valley scented hand creme. The Shea and Macadamia nut butters [[meked my hand's feel and look soft. The lovely liy ofo the Valley scent is subtle but a hint lingers for severals hours. This size tube is perfect for a purse, tote bag, or backpack. I have purshased Crabtree and Evelyn body lotion from the company web site for years, and now it is available at Amazin.\n",
      "\n",
      "Not bad but not much better\n",
      "Not bad butt not much better\n",
      "\n"
     ]
    }
   ],
   "source": [
    "aug = naw.SpellingAug(\n",
    "    aug_p=0.1,\n",
    "    aug_min=1\n",
    ")\n",
    "\n",
    "augmented_texts = aug.augment(texts)\n",
    "\n",
    "for original, augmented in zip(texts, augmented_texts):\n",
    "    print(original)\n",
    "    print(augmented)\n",
    "    print()"
   ]
  },
  {
   "cell_type": "code",
   "execution_count": 43,
   "metadata": {},
   "outputs": [
    {
     "name": "stdout",
     "output_type": "stream",
     "text": [
      "Unfortunately it fits so perfect that only this guitar will fit but oh well thats all I need.\n",
      "Unfortunately it fits so unadulterated that only this guitar will fit but oh well thats all I need.\n",
      "\n",
      "Good fit and comfy. Not so cushiony so definetly better for training and not for running or aerobics. Bought size 8 which is my usual size.\n",
      "Good fit and comfy. Not so cushiony so definetly better for training and not for running beaver state aerobics. Bought sizing 8 which is my usual size.\n",
      "\n",
      "First time I used this brand. But will buy it again. Worked just like all the others I have bought in the past\n",
      "First time I used this brand. But will buy it again. Exploit just like all the others Iodine have bought in the past\n",
      "\n",
      "I love glamour mag. I have read it for over 25 years. The articles are most always good and some of the clothes are beautiful.\n",
      "One love glamour mag. I have take it for over 25 years. The articles are most always good and some of the clothes are beautiful.\n",
      "\n",
      "These are great for containing moisture in sensitive storage areas. Work great so far!\n",
      "These are great for containing wet in sensitive storage sphere. Work great so far!\n",
      "\n",
      "The usual high standards of Crabtree and Evelyn show in the Lily of the Valley scented hand cream. The Shea and Macadamia nut butters make my hands feel and look soft. The lovely Lily of the Valley scent is subtle but a hint lingers for several hours. This size tube is perfect for a purse, tote bag, or backpack. I have purchased Crabtree and Evelyn body lotion from the company web site for years, and now it is available at Amazon.\n",
      "The usual high standards of Crabtree and Evelyn show in the Lily of the Valley odorize hand cream. The Shea and Macadamia nut butters make my hands feel and look soft. The lovely Lily of the Valley scent is subtle simply a hint lingers for several hours. This size tube is perfect for a bag, holdall bag, or backpack. I have purchased Crabtree and Evelyn body lotion from the company net site for age, and immediately it make up available at Amazon.\n",
      "\n",
      "Not bad but not much better\n",
      "Not bad but not much better\n",
      "\n"
     ]
    }
   ],
   "source": [
    "aug = naw.SynonymAug(\n",
    "    aug_p=0.1,\n",
    "    aug_min=1,\n",
    ")\n",
    "\n",
    "augmented_texts = aug.augment(texts)\n",
    "\n",
    "for original, augmented in zip(texts, augmented_texts):\n",
    "    print(original)\n",
    "    print(augmented)\n",
    "    print()"
   ]
  },
  {
   "cell_type": "code",
   "execution_count": 44,
   "metadata": {},
   "outputs": [
    {
     "name": "stdout",
     "output_type": "stream",
     "text": [
      "Unfortunately it fits so perfect that only this guitar will fit but oh well thats all I need.\n",
      "it fits so perfectly that only this guitar will fit. oh well thats all i need.\n",
      "\n",
      "Good fit and comfy. Not so cushiony so definetly better for training and not for running or aerobics. Bought size 8 which is my usual size.\n",
      "not so cushiony so definetly better for training and not for running or aerobics. Bought size 8 which is my usual size.\n",
      "\n",
      "First time I used this brand. But will buy it again. Worked just like all the others I have bought in the past\n",
      "first time I used this brand. but will buy it again. worked just like all the others I have bought in the past.\n",
      "\n",
      "I love glamour mag. I have read it for over 25 years. The articles are most always good and some of the clothes are beautiful.\n",
      "glamour mag is a magazine that has been around for 25 years. the articles are always good and some of the clothes are beautiful.\n",
      "\n",
      "These are great for containing moisture in sensitive storage areas. Work great so far!\n",
      "these are great for containing moisture in sensitive storage areas. they work great so far!\n",
      "\n",
      "The usual high standards of Crabtree and Evelyn show in the Lily of the Valley scented hand cream. The Shea and Macadamia nut butters make my hands feel and look soft. The lovely Lily of the Valley scent is subtle but a hint lingers for several hours. This size tube is perfect for a purse, tote bag, or backpack. I have purchased Crabtree and Evelyn body lotion from the company web site for years, and now it is available at Amazon.\n",
      "the Lily of the Valley hand cream is scented with shea and macadamia nut butters. the scent is subtle but a hint lingers for several hours. this size tube is perfect for a purse, tote bag, or backpack.\n",
      "\n",
      "Not bad but not much better\n",
      "Not bad but not much better. Not much better than not bad, if anything.\n",
      "\n"
     ]
    }
   ],
   "source": [
    "aug = nas.AbstSummAug()\n",
    "augmented_texts = aug.augment(texts)\n",
    "\n",
    "for original, augmented in zip(texts, augmented_texts):\n",
    "    print(original)\n",
    "    print(augmented)\n",
    "    print()"
   ]
  },
  {
   "cell_type": "code",
   "execution_count": null,
   "metadata": {},
   "outputs": [],
   "source": []
  }
 ],
 "metadata": {
  "kernelspec": {
   "display_name": "6806",
   "language": "python",
   "name": "python3"
  },
  "language_info": {
   "codemirror_mode": {
    "name": "ipython",
    "version": 3
   },
   "file_extension": ".py",
   "mimetype": "text/x-python",
   "name": "python",
   "nbconvert_exporter": "python",
   "pygments_lexer": "ipython3",
   "version": "3.9.5"
  }
 },
 "nbformat": 4,
 "nbformat_minor": 2
}
